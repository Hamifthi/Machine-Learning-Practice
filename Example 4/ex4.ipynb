{
 "cells": [
  {
   "cell_type": "code",
   "execution_count": 1,
   "metadata": {},
   "outputs": [],
   "source": [
    "import pandas as pd\n",
    "import scipy as sc\n",
    "import numpy as np\n",
    "import matplotlib.pyplot as plt\n",
    "import seaborn as sns\n",
    "from scipy.io import loadmat\n",
    "%matplotlib inline\n",
    "sns.set()"
   ]
  },
  {
   "cell_type": "code",
   "execution_count": 2,
   "metadata": {},
   "outputs": [],
   "source": [
    "data = loadmat('ex4data1.mat')\n",
    "weights = loadmat('ex4weights.mat')\n",
    "x = data['X'].flatten()\n",
    "y = (np.zeros(50000)).reshape(5000, 10)\n",
    "m = y.shape[0]\n",
    "initialTheta = np.concatenate((weights['Theta1'].flatten(), weights['Theta2'].flatten()), axis = 0)\n",
    "theta1 = initialTheta[:10025].reshape(25, 401)\n",
    "theta2 = initialTheta[10025:].reshape(10, 26)"
   ]
  },
  {
   "cell_type": "code",
   "execution_count": 3,
   "metadata": {},
   "outputs": [],
   "source": [
    "for number in range(0, 10):\n",
    "    if number == 0:\n",
    "        y[0:500, 9:] = 1\n",
    "    else:\n",
    "        y[number * 500:(number + 1) * 500, number - 1:number] = 1\n",
    "        \n",
    "y = y.flatten()"
   ]
  },
  {
   "cell_type": "code",
   "execution_count": 4,
   "metadata": {},
   "outputs": [
    {
     "data": {
      "image/png": "[encoded data removed]",
      "text/plain": [
       "<matplotlib.figure.Figure at 0x225b45a37b8>"
      ]
     },
     "metadata": {},
     "output_type": "display_data"
    }
   ],
   "source": [
    "x = x.reshape(5000, 400)\n",
    "sample = np.random.choice(x.shape[0], 20)\n",
    "plt.imshow(x[sample, :].reshape(-1, 20).T, cmap='gray')\n",
    "plt.axis('off');"
   ]
  },
  {
   "cell_type": "code",
   "execution_count": 6,
   "metadata": {},
   "outputs": [],
   "source": [
    "def sigmoidFunction (z):\n",
    "    return 1 / (1 + np.exp(-z))"
   ]
  },
  {
   "cell_type": "code",
   "execution_count": 717,
   "metadata": {},
   "outputs": [],
   "source": [
    "def hypothesisFunction (theta, x):\n",
    "    x = x.reshape(5000, 400)\n",
    "    theta1 = theta[:10025].reshape(25, 401)\n",
    "    theta2 = theta[10025:].reshape(10, 26)\n",
    "    \n",
    "    a1 = np.c_[np.ones((x.shape[0], 1)), x]\n",
    "    z2 = np.dot(a1, theta1.T)\n",
    "    \n",
    "    a2 = np.c_[np.ones((x.shape[0], 1)), sigmoidFunction(z2)]\n",
    "    z3 = np.dot(a2, theta2.T)\n",
    "    \n",
    "    a3 = sigmoidFunction(z3)\n",
    "    return np.concatenate((a3.flatten(), z2.flatten(), a2.flatten(), a1.flatten()))"
   ]
  },
  {
   "cell_type": "code",
   "execution_count": 718,
   "metadata": {},
   "outputs": [],
   "source": [
    "def costFunction (theta, x, y):\n",
    "    y = y.reshape(5000, 10)\n",
    "    h = hypothesisFunction(theta, x)[:50000].reshape(5000, 10)\n",
    "    j = np.dot((1 / m), (np.log(h).T.dot(-y) - np.log(1 - h).T.dot(1 - y)))\n",
    "    costs = []\n",
    "    for number in range(10):\n",
    "        costs.append(j[number, number])\n",
    "    cost = np.array(costs)\n",
    "    return cost"
   ]
  },
  {
   "cell_type": "code",
   "execution_count": 719,
   "metadata": {},
   "outputs": [
    {
     "data": {
      "text/plain": [
       "array([ 0.02115448,  0.03022682,  0.03946314,  0.02972325,  0.02998443,\n",
       "        0.02026629,  0.028228  ,  0.03474724,  0.03946383,  0.0143717 ])"
      ]
     },
     "execution_count": 719,
     "metadata": {},
     "output_type": "execute_result"
    }
   ],
   "source": [
    "costFunction(initialTheta, x, y)"
   ]
  },
  {
   "cell_type": "code",
   "execution_count": 720,
   "metadata": {},
   "outputs": [],
   "source": [
    "def regularizedCostFunction (theta, x, y, λ = 0.1):\n",
    "    theta1 = theta[:10025].reshape(25, 401)\n",
    "    theta2 = theta[10025:].reshape(10, 26)\n",
    "    cost = costFunction(theta, x, y)\n",
    "    cost += ((λ / (2 * m)) * (np.sum(np.square(theta1[:, 1:])) + np.sum(np.square(theta2[:, 1:]))))\n",
    "    return cost"
   ]
  },
  {
   "cell_type": "code",
   "execution_count": 721,
   "metadata": {},
   "outputs": [
    {
     "data": {
      "text/plain": [
       "array([ 0.03076855,  0.03984089,  0.04907721,  0.03933732,  0.0395985 ,\n",
       "        0.02988036,  0.03784207,  0.04436131,  0.0490779 ,  0.02398576])"
      ]
     },
     "execution_count": 721,
     "metadata": {},
     "output_type": "execute_result"
    }
   ],
   "source": [
    "regularizedCostFunction(initialTheta, x, y, 0.1)"
   ]
  },
  {
   "cell_type": "code",
   "execution_count": 722,
   "metadata": {},
   "outputs": [],
   "source": [
    "def sigmoidGradient (z):\n",
    "    return sigmoidFunction(z) * (1 - sigmoidFunction(z))"
   ]
  },
  {
   "cell_type": "code",
   "execution_count": 723,
   "metadata": {},
   "outputs": [],
   "source": [
    "randomTheta = np.random.rand(10285) * 2 * 0.012 - 0.012"
   ]
  },
  {
   "cell_type": "code",
   "execution_count": 724,
   "metadata": {},
   "outputs": [],
   "source": [
    "def backPropagationFunction (theta, x, y):\n",
    "    y = y.reshape(5000, 10)\n",
    "    theta2 = theta[10025:].reshape(10, 26)\n",
    "    a3 = hypothesisFunction(theta, x)[:50000].reshape(5000, 10)\n",
    "    z2 = hypothesisFunction(theta, x)[50000:175000].reshape(5000, 25)\n",
    "    a2 = hypothesisFunction(theta, x)[175000:305000].reshape(5000, 26)\n",
    "    a1 = hypothesisFunction(theta, x)[305000:].reshape(5000, 401)\n",
    "    𝛿3 = a3 - y\n",
    "    𝛿2 = np.dot(𝛿3, theta2)[:, 1:] * sigmoidGradient(z2)\n",
    "    Δ2 = np.dot(a2.T, 𝛿3)\n",
    "    Δ1 = np.dot(a1.T, 𝛿2)\n",
    "    D2 = np.dot(1 / m, Δ2)\n",
    "    D1 = np.dot(1 / m, Δ1)\n",
    "    return np.concatenate((D1.flatten(), D2.flatten()))"
   ]
  },
  {
   "cell_type": "code",
   "execution_count": 725,
   "metadata": {},
   "outputs": [],
   "source": [
    "def regularizedBackPropagationFunction (theta, x, y, λ = 0.1):\n",
    "    theta1 = theta[:10025].reshape(25, 401)\n",
    "    theta2 = theta[10025:].reshape(10, 26)\n",
    "    \n",
    "    D1 = backPropagationFunction(theta, x, y)[:10025].reshape(25, 401)\n",
    "    reg1 = D1[:, 1:] + ((λ / m) * theta1[:, 1:])\n",
    "    D1 = np.c_[D1[:, 1:2], reg1]\n",
    "    \n",
    "    D2 = backPropagationFunction(theta, x, y)[10025:].reshape(10, 26)\n",
    "    reg2 = D2[:, 1:] + ((λ / m) * theta2[:, 1:])\n",
    "    D2 = np.c_[D2[:, 1:2], reg2]\n",
    "\n",
    "    return np.concatenate((D1.flatten(), D2.flatten()))"
   ]
  },
  {
   "cell_type": "code",
   "execution_count": 726,
   "metadata": {},
   "outputs": [
    {
     "name": "stdout",
     "output_type": "stream",
     "text": [
      "6.96244924802\n",
      "55.121319453\n"
     ]
    },
    {
     "data": {
      "text/plain": [
       "array([-0.00167359,  0.00622925, -0.00198922, ..., -0.01080899,\n",
       "        0.00400247,  0.00820628])"
      ]
     },
     "execution_count": 726,
     "metadata": {},
     "output_type": "execute_result"
    }
   ],
   "source": [
    "cost = regularizedCostFunction(randomTheta, x, y, 1)\n",
    "backPropagation = regularizedBackPropagationFunction(randomTheta, x, y, λ = 1)\n",
    "print(sum(cost))\n",
    "print(sum(backPropagation))\n",
    "randomTheta"
   ]
  },
  {
   "cell_type": "code",
   "execution_count": 727,
   "metadata": {},
   "outputs": [
    {
     "name": "stdout",
     "output_type": "stream",
     "text": [
      "3.42660732886\n",
      "23.4933357188\n",
      "[-0.00181887  0.00608273 -0.00295332 ..., -0.2117415  -0.19682862\n",
      " -0.19376611]\n"
     ]
    },
    {
     "data": {
      "text/plain": [
       "array([ -2.25623899e-02,  -1.05624163e-08,   2.19414684e-09, ...,\n",
       "        -2.47795788e-01,   1.28009118e+00,  -1.32752042e+00])"
      ]
     },
     "execution_count": 727,
     "metadata": {},
     "output_type": "execute_result"
    }
   ],
   "source": [
    "randomTheta = randomTheta - backPropagation\n",
    "print(sum(regularizedCostFunction(randomTheta, x, y, 0.1)))\n",
    "print(sum(regularizedBackPropagationFunction(randomTheta, x, y, λ = 0.1)))\n",
    "print(randomTheta)\n",
    "initialTheta"
   ]
  },
  {
   "cell_type": "code",
   "execution_count": 728,
   "metadata": {},
   "outputs": [
    {
     "name": "stdout",
     "output_type": "stream",
     "text": [
      "5.6951218719\n",
      "119.099496028\n",
      "[-0.00196415  0.0059362  -0.00391742 ..., -0.41267401 -0.3976597  -0.3957385 ]\n"
     ]
    },
    {
     "data": {
      "text/plain": [
       "array([ -2.25623899e-02,  -1.05624163e-08,   2.19414684e-09, ...,\n",
       "        -2.47795788e-01,   1.28009118e+00,  -1.32752042e+00])"
      ]
     },
     "execution_count": 728,
     "metadata": {},
     "output_type": "execute_result"
    }
   ],
   "source": [
    "randomTheta = randomTheta - backPropagation\n",
    "print(sum(regularizedCostFunction(randomTheta, x, y, 0.1)))\n",
    "print(sum(regularizedBackPropagationFunction(randomTheta, x, y, λ = 0.1)))\n",
    "print(randomTheta)\n",
    "initialTheta"
   ]
  },
  {
   "cell_type": "code",
   "execution_count": 729,
   "metadata": {},
   "outputs": [
    {
     "name": "stdout",
     "output_type": "stream",
     "text": [
      "8.47825544852\n",
      "192.280522514\n",
      "[-0.00210943  0.00578968 -0.00488151 ..., -0.61360653 -0.59849078\n",
      " -0.59771089]\n"
     ]
    },
    {
     "data": {
      "text/plain": [
       "array([ -2.25623899e-02,  -1.05624163e-08,   2.19414684e-09, ...,\n",
       "        -2.47795788e-01,   1.28009118e+00,  -1.32752042e+00])"
      ]
     },
     "execution_count": 729,
     "metadata": {},
     "output_type": "execute_result"
    }
   ],
   "source": [
    "randomTheta = randomTheta - backPropagation\n",
    "print(sum(regularizedCostFunction(randomTheta, x, y, 0.1)))\n",
    "print(sum(regularizedBackPropagationFunction(randomTheta, x, y, λ = 0.1)))\n",
    "print(randomTheta)\n",
    "initialTheta"
   ]
  },
  {
   "cell_type": "code",
   "execution_count": 730,
   "metadata": {},
   "outputs": [
    {
     "name": "stdout",
     "output_type": "stream",
     "text": [
      "11.2891155204\n",
      "261.55658771\n",
      "[-0.00225471  0.00564315 -0.00584561 ..., -0.81453904 -0.79932186\n",
      " -0.79968328]\n"
     ]
    },
    {
     "data": {
      "text/plain": [
       "array([ -2.25623899e-02,  -1.05624163e-08,   2.19414684e-09, ...,\n",
       "        -2.47795788e-01,   1.28009118e+00,  -1.32752042e+00])"
      ]
     },
     "execution_count": 730,
     "metadata": {},
     "output_type": "execute_result"
    }
   ],
   "source": [
    "randomTheta = randomTheta - backPropagation\n",
    "print(sum(regularizedCostFunction(randomTheta, x, y, 0.1)))\n",
    "print(sum(regularizedBackPropagationFunction(randomTheta, x, y, λ = 0.1)))\n",
    "print(randomTheta)\n",
    "initialTheta"
   ]
  },
  {
   "cell_type": "code",
   "execution_count": 731,
   "metadata": {},
   "outputs": [
    {
     "name": "stdout",
     "output_type": "stream",
     "text": [
      "14.0951436874\n",
      "330.40185725\n",
      "[-0.0024      0.00549662 -0.0068097  ..., -1.01547156 -1.00015295\n",
      " -1.00165567]\n"
     ]
    },
    {
     "data": {
      "text/plain": [
       "array([ -2.25623899e-02,  -1.05624163e-08,   2.19414684e-09, ...,\n",
       "        -2.47795788e-01,   1.28009118e+00,  -1.32752042e+00])"
      ]
     },
     "execution_count": 731,
     "metadata": {},
     "output_type": "execute_result"
    }
   ],
   "source": [
    "randomTheta = randomTheta - backPropagation\n",
    "print(sum(regularizedCostFunction(randomTheta, x, y, 0.1)))\n",
    "print(sum(regularizedBackPropagationFunction(randomTheta, x, y, λ = 0.1)))\n",
    "print(randomTheta)\n",
    "initialTheta"
   ]
  }
 ],
 "metadata": {
  "kernelspec": {
   "display_name": "Python 3",
   "language": "python",
   "name": "python3"
  },
  "language_info": {
   "codemirror_mode": {
    "name": "ipython",
    "version": 3
   },
   "file_extension": ".py",
   "mimetype": "text/x-python",
   "name": "python",
   "nbconvert_exporter": "python",
   "pygments_lexer": "ipython3",
   "version": "3.6.3"
  }
 },
 "nbformat": 4,
 "nbformat_minor": 2
}
