{
 "cells": [
  {
   "cell_type": "code",
   "execution_count": 151,
   "metadata": {},
   "outputs": [],
   "source": [
    "import pandas as pd\n",
    "import scipy as sc\n",
    "import numpy as np\n",
    "import matplotlib.pyplot as plt\n",
    "import seaborn as sns\n",
    "from scipy.io import loadmat\n",
    "import sys\n",
    "%matplotlib inline\n",
    "sns.set()"
   ]
  },
  {
   "cell_type": "code",
   "execution_count": 174,
   "metadata": {},
   "outputs": [],
   "source": [
    "data = loadmat('ex4data1.mat')\n",
    "weights = loadmat('ex4weights.mat')\n",
    "x = data['X']\n",
    "y = (np.zeros(50000)).reshape(5000, 10)\n",
    "initialTheta = np.concatenate((weights['Theta1'].flatten(), theta2.flatten()), axis = 0).reshape(-1, 1)\n",
    "theta1 = initialTheta[:10025].reshape(25, 401)\n",
    "theta2 = initialTheta[10025:].reshape(10, 26)"
   ]
  },
  {
   "cell_type": "code",
   "execution_count": 175,
   "metadata": {},
   "outputs": [],
   "source": [
    "for number in range(0, 10):\n",
    "    if number == 0:\n",
    "        y[0:500, 9:] = 1\n",
    "    else:\n",
    "        y[number * 500:(number + 1) * 500, number - 1:number] = 1"
   ]
  },
  {
   "cell_type": "code",
   "execution_count": 176,
   "metadata": {},
   "outputs": [
    {
     "data": {
      "image/png": "[encoded data removed]",
      "text/plain": [
       "<matplotlib.figure.Figure at 0x1a82ce7e630>"
      ]
     },
     "metadata": {},
     "output_type": "display_data"
    }
   ],
   "source": [
    "sample = np.random.choice(x.shape[0], 20)\n",
    "plt.imshow(x[sample, :].reshape(-1, 20).T, cmap='gray')\n",
    "plt.axis('off');"
   ]
  },
  {
   "cell_type": "code",
   "execution_count": 177,
   "metadata": {},
   "outputs": [],
   "source": [
    "def sigmoidFunction (z):\n",
    "    return 1 / (1 + np.exp(-z))"
   ]
  },
  {
   "cell_type": "code",
   "execution_count": 178,
   "metadata": {},
   "outputs": [],
   "source": [
    "def hypothesisFunction (x, theta):\n",
    "    theta1 = theta[:10025].reshape(25, 401)\n",
    "    theta2 = theta[10025:].reshape(10, 26)\n",
    "    \n",
    "    a1 = np.c_[np.ones((x.shape[0], 1)), x]\n",
    "    z2 = np.dot(a1, theta1.T)\n",
    "    \n",
    "    a2 = np.c_[np.ones((x.shape[0], 1)), sigmoidFunction(z2)]\n",
    "    z3 = np.dot(a2, theta2.T)\n",
    "    \n",
    "    a3 = sigmoidFunction(z3)\n",
    "    return dict([('a3', a3), ('z2', z2), ('a2', a2), ('a1', a1)])"
   ]
  },
  {
   "cell_type": "code",
   "execution_count": 186,
   "metadata": {},
   "outputs": [],
   "source": [
    "def costFunction (y, hypothesisFunction):\n",
    "    m = y.shape[0]\n",
    "    j = (1 / m) * (np.log(hypothesisFunction).T.dot(-y) - np.log(1 - hypothesisFunction).T.dot(1 - y))\n",
    "    costs = []\n",
    "    for number in range(10):\n",
    "        costs.append(j[number, number])\n",
    "    mainCosts = np.array(costs)\n",
    "    return mainCosts"
   ]
  },
  {
   "cell_type": "code",
   "execution_count": 187,
   "metadata": {},
   "outputs": [
    {
     "data": {
      "text/plain": [
       "array([ 0.02115448,  0.03022682,  0.03946314,  0.02972325,  0.02998443,\n",
       "        0.02026629,  0.028228  ,  0.03474724,  0.03946383,  0.0143717 ])"
      ]
     },
     "execution_count": 187,
     "metadata": {},
     "output_type": "execute_result"
    }
   ],
   "source": [
    "costFunction (y, hypothesisFunction(x, initialTheta)['a3'])"
   ]
  },
  {
   "cell_type": "code",
   "execution_count": 188,
   "metadata": {},
   "outputs": [],
   "source": [
    "def regularizedCostFunction (costs, theta, λ):\n",
    "    theta1 = theta[:10025].reshape(25, 401)\n",
    "    theta2 = theta[10025:].reshape(10, 26)\n",
    "    m = y.shape[0]\n",
    "    costs += ((λ / (2 * m)) * (np.sum(np.square(theta1[:, 1:])) + np.sum(np.square(theta2[:, 1:]))))\n",
    "    return costs"
   ]
  },
  {
   "cell_type": "code",
   "execution_count": 190,
   "metadata": {},
   "outputs": [
    {
     "data": {
      "text/plain": [
       "0.38376985909092359"
      ]
     },
     "execution_count": 190,
     "metadata": {},
     "output_type": "execute_result"
    }
   ],
   "source": [
    "sum(regularizedCostFunction (costFunction (y, hypothesisFunction(x, initialTheta)['a3']), initialTheta, 0.1))"
   ]
  },
  {
   "cell_type": "code",
   "execution_count": 145,
   "metadata": {},
   "outputs": [],
   "source": [
    "def sigmoidGradient (z):\n",
    "    return sigmoidFunction(z) * (1 - sigmoidFunction(z))"
   ]
  },
  {
   "cell_type": "code",
   "execution_count": 146,
   "metadata": {},
   "outputs": [],
   "source": [
    "randomTheta = np.random.uniform(low = -0.12, high = 0.12, size = (10285, 1))"
   ]
  },
  {
   "cell_type": "code",
   "execution_count": 147,
   "metadata": {},
   "outputs": [],
   "source": [
    "def backPropagationFunction (y, hypothesisFunction, theta):\n",
    "    m = y.shape[0]\n",
    "    theta2 = theta[10025:].reshape(10, 26)\n",
    "    a3 = hypothesisFunction(x, initialTheta)['a3']\n",
    "    z2 = hypothesisFunction(x, initialTheta)['z2']\n",
    "    a2 = hypothesisFunction(x, initialTheta)['a2']\n",
    "    a1 = hypothesisFunction(x, initialTheta)['a1']\n",
    "    𝛿3 = a3 - y\n",
    "    𝛿2 = np.dot(𝛿3, theta2)[:, 1:] * sigmoidGradient(z2)\n",
    "    Δ2 = np.dot(a2.T, 𝛿3)\n",
    "    Δ1 = np.dot(a1.T, 𝛿2)\n",
    "    D2 = 1 / m * Δ2\n",
    "    D1 = 1 / m * Δ1\n",
    "    return D1, D2"
   ]
  },
  {
   "cell_type": "code",
   "execution_count": 148,
   "metadata": {},
   "outputs": [],
   "source": [
    "def computeNumericalGradient (theta1, theta2, ϵ):\n",
    "    f = []\n",
    "    epsilonVector1 = np.zeros((25, 401))\n",
    "    for number1 in np.nditer(epsilonVector1, op_flags=['readwrite']):\n",
    "        number1 += ϵ\n",
    "        theta1Plus = theta1 + epsilonVector1\n",
    "        theta1Minus = theta1 - epsilonVector1\n",
    "        jPlus = costFunction (y[:500], hypothesisFunction(x[:500], theta1Plus, theta2)['a3'])\n",
    "        jMinus = costFunction (y[:500], hypothesisFunction(x[:500], theta1Minus, theta2)['a3'])\n",
    "        f.append((jPlus + jMinus) / (2 * ϵ))\n",
    "        number1 -= ϵ\n",
    "    epsilonVector2 = np.zeros((10, 26))\n",
    "    for number2 in np.nditer(epsilonVector2, op_flags=['readwrite']):\n",
    "        number2 += ϵ\n",
    "        theta2Plus = theta2 + epsilonVector2\n",
    "        theta2Minus = theta2 - epsilonVector2\n",
    "        jPlus = costFunction (y[:500], hypothesisFunction(x[:500, :], theta1, theta2Plus)['a3'])\n",
    "        jMinus = costFunction (y[:500], hypothesisFunction(x[:500, :], theta1, theta2Minus)['a3'])\n",
    "        f.append((jPlus + jMinus) / (2 * ϵ))\n",
    "        number2 -= ϵ\n",
    "    return np.array(f)"
   ]
  },
  {
   "cell_type": "code",
   "execution_count": 149,
   "metadata": {},
   "outputs": [],
   "source": [
    "def regularizedNeuralNetworks(backPropagationFunction, theta, m, λ):\n",
    "    theta1 = initialTheta[:10025].reshape(25, 401)\n",
    "    theta2 = initialTheta[10025:].reshape(10, 26)\n",
    "    \n",
    "    D1 = backPropagationFunction[0]\n",
    "    D1 = D1.T[:, 1:] + (λ / m) * theta1[:, 1:]\n",
    "    \n",
    "    D2 = backPropagationFunction[1]\n",
    "    D2 = D2.T[:, 1:] + (λ / m) * theta2[:, 1:]\n",
    "    return D1, D2"
   ]
  },
  {
   "cell_type": "code",
   "execution_count": null,
   "metadata": {},
   "outputs": [],
   "source": [
    "def optimize (cost, backPropagationFunction, theta, backpropagation, x, y, λ):\n",
    "    sc.optimize.minimize(cost, initialTheta, args = (x, y, λ), fprime = backPropagationFunction, method = 'CG', options = {'maxiter':400, 'disp':True})"
   ]
  }
 ],
 "metadata": {
  "kernelspec": {
   "display_name": "Python 3",
   "language": "python",
   "name": "python3"
  },
  "language_info": {
   "codemirror_mode": {
    "name": "ipython",
    "version": 3
   },
   "file_extension": ".py",
   "mimetype": "text/x-python",
   "name": "python",
   "nbconvert_exporter": "python",
   "pygments_lexer": "ipython3",
   "version": "3.6.3"
  }
 },
 "nbformat": 4,
 "nbformat_minor": 2
}
