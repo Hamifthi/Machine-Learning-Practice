{
 "cells": [
  {
   "cell_type": "code",
   "execution_count": 1,
   "metadata": {},
   "outputs": [],
   "source": [
    "import pandas as pd\n",
    "import scipy as sc\n",
    "import numpy as np\n",
    "import matplotlib.pyplot as plt\n",
    "import seaborn as sns\n",
    "from scipy.io import loadmat\n",
    "import sys\n",
    "%matplotlib inline\n",
    "sns.set()"
   ]
  },
  {
   "cell_type": "code",
   "execution_count": 2,
   "metadata": {},
   "outputs": [],
   "source": [
    "data = loadmat('ex4data1.mat')\n",
    "weights = loadmat('ex4weights.mat')\n",
    "x = data['X']\n",
    "y = (np.zeros(50000)).reshape(5000, 10)\n",
    "theta1 = np.array(weights['Theta1'])\n",
    "theta2 = np.array(weights['Theta2'])"
   ]
  },
  {
   "cell_type": "code",
   "execution_count": 3,
   "metadata": {},
   "outputs": [],
   "source": [
    "for number in range(0, 10):\n",
    "    if number == 0:\n",
    "        y[0:500, 9:] = 1\n",
    "    else:\n",
    "        y[number * 500:(number + 1) * 500, number - 1:number] = 1"
   ]
  },
  {
   "cell_type": "code",
   "execution_count": 4,
   "metadata": {},
   "outputs": [
    {
     "data": {
      "image/png": "[encoded data removed]",
      "text/plain": [
       "<matplotlib.figure.Figure at 0x2a7ff3ef710>"
      ]
     },
     "metadata": {},
     "output_type": "display_data"
    }
   ],
   "source": [
    "sample = np.random.choice(x.shape[0], 20)\n",
    "plt.imshow(x[sample, :].reshape(-1, 20).T, cmap='gray')\n",
    "plt.axis('off');"
   ]
  },
  {
   "cell_type": "code",
   "execution_count": 4,
   "metadata": {},
   "outputs": [],
   "source": [
    "def sigmoidFunction (z):\n",
    "    return 1 / (1 + np.exp(-z))"
   ]
  },
  {
   "cell_type": "code",
   "execution_count": 5,
   "metadata": {},
   "outputs": [],
   "source": [
    "def hypothesisFunction (x, theta1, theta2):\n",
    "    a1 = np.c_[np.ones((data['X'].shape[0], 1)), x]\n",
    "    z2 = np.dot(a1, theta1.T)\n",
    "    \n",
    "    a2 = np.c_[np.ones((data['X'].shape[0], 1)), sigmoidFunction(z2)]\n",
    "    z3 = np.dot(a2, theta2.T)\n",
    "    \n",
    "    a3 = sigmoidFunction(z3)\n",
    "    return dict([('a3', a3), ('z2', z2), ('a2', a2)])"
   ]
  },
  {
   "cell_type": "code",
   "execution_count": 15,
   "metadata": {},
   "outputs": [],
   "source": [
    "def costFunction (y, hypothesisFunction):\n",
    "    m = y.shape[0]\n",
    "    j = (1 / m) * (np.log(hypothesisFunction).T.dot(-y) - np.log(1 - hypothesisFunction).T.dot(1 - y))\n",
    "    costs = []\n",
    "    for number in range(10):\n",
    "        costs.append(j[number, number])\n",
    "    mainCosts = np.array(costs)\n",
    "    return mainCosts"
   ]
  },
  {
   "cell_type": "code",
   "execution_count": 8,
   "metadata": {},
   "outputs": [],
   "source": [
    "def regularizedCostFunction (costs, theta1, theta2, λ):\n",
    "    m = y.shape[0]\n",
    "    costs += ((λ / (2 * m)) * (np.sum(np.square(theta1[:, 1:])) + np.sum(np.square(theta2[:, 1:]))))\n",
    "    return costs"
   ]
  },
  {
   "cell_type": "code",
   "execution_count": 9,
   "metadata": {},
   "outputs": [],
   "source": [
    "def sigmoidGradient (z):\n",
    "    return sigmoidFunction(z) * (1 - sigmoidFunction(z))"
   ]
  },
  {
   "cell_type": "code",
   "execution_count": 10,
   "metadata": {},
   "outputs": [],
   "source": [
    "randomTheta1 = np.random.uniform(low = -0.12, high = 0.12, size = (25, 400))\n",
    "randomTheta2 = np.random.uniform(low = -0.12, high = 0.12, size = (10, 25))"
   ]
  },
  {
   "cell_type": "code",
   "execution_count": 11,
   "metadata": {},
   "outputs": [],
   "source": [
    "def backPropagationFunction (y, hypothesisFunction, theta2):\n",
    "    m = y.shape[0]\n",
    "    a3 = hypothesisFunction (x, theta1, theta2)['a3']\n",
    "    z2 = hypothesisFunction (x, theta1, theta2)['z2']\n",
    "    a2 = hypothesisFunction (x, theta1, theta2)['a2']\n",
    "    𝛿3 = a3 - y\n",
    "    𝛿2 = np.dot(𝛿3, theta2)[:, 1:] * sigmoidGradient(z2)\n",
    "    Δ2 = np.dot(a2.T, 𝛿3)\n",
    "    D2 = 1 / m * Δ2\n",
    "    return D2"
   ]
  },
  {
   "cell_type": "code",
   "execution_count": 12,
   "metadata": {},
   "outputs": [],
   "source": [
    "def computeNumericalGradient (theta1, theta2, ϵ = 10 * -4):\n",
    "    theta1Plus = theta1 + ϵ\n",
    "    theta1Minus = theta1 - ϵ\n",
    "    \n",
    "    theta2Plus = theta2 + ϵ\n",
    "    theta2Minus = theta2 - ϵ\n",
    "    \n",
    "    "
   ]
  }
 ],
 "metadata": {
  "kernelspec": {
   "display_name": "Python 3",
   "language": "python",
   "name": "python3"
  },
  "language_info": {
   "codemirror_mode": {
    "name": "ipython",
    "version": 3
   },
   "file_extension": ".py",
   "mimetype": "text/x-python",
   "name": "python",
   "nbconvert_exporter": "python",
   "pygments_lexer": "ipython3",
   "version": "3.6.3"
  }
 },
 "nbformat": 4,
 "nbformat_minor": 2
}
