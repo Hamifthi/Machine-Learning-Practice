{
 "cells": [
  {
   "cell_type": "code",
   "execution_count": 200,
   "metadata": {},
   "outputs": [],
   "source": [
    "import pandas as pd\n",
    "import scipy as sc\n",
    "import numpy as np\n",
    "import matplotlib.pyplot as plt\n",
    "import seaborn as sns\n",
    "from scipy.io import loadmat\n",
    "import sys\n",
    "%matplotlib inline\n",
    "sns.set()"
   ]
  },
  {
   "cell_type": "code",
   "execution_count": 201,
   "metadata": {},
   "outputs": [],
   "source": [
    "data = loadmat('ex4data1.mat')\n",
    "weights = loadmat('ex4weights.mat')\n",
    "x = data['X']\n",
    "y = (np.zeros(50000)).reshape(5000, 10)\n",
    "initialTheta = np.concatenate((weights['Theta1'].flatten(), weights['Theta2'].flatten()), axis = 0).reshape(-1, 1)\n",
    "theta1 = initialTheta[:10025].reshape(25, 401)\n",
    "theta2 = initialTheta[10025:].reshape(10, 26)"
   ]
  },
  {
   "cell_type": "code",
   "execution_count": 202,
   "metadata": {},
   "outputs": [],
   "source": [
    "for number in range(0, 10):\n",
    "    if number == 0:\n",
    "        y[0:500, 9:] = 1\n",
    "    else:\n",
    "        y[number * 500:(number + 1) * 500, number - 1:number] = 1"
   ]
  },
  {
   "cell_type": "code",
   "execution_count": 203,
   "metadata": {},
   "outputs": [
    {
     "data": {
      "image/png": "[encoded data removed]",
      "text/plain": [
       "<matplotlib.figure.Figure at 0x1b738816ba8>"
      ]
     },
     "metadata": {},
     "output_type": "display_data"
    }
   ],
   "source": [
    "sample = np.random.choice(x.shape[0], 20)\n",
    "plt.imshow(x[sample, :].reshape(-1, 20).T, cmap='gray')\n",
    "plt.axis('off');"
   ]
  },
  {
   "cell_type": "code",
   "execution_count": 204,
   "metadata": {},
   "outputs": [],
   "source": [
    "def sigmoidFunction (z):\n",
    "    return 1 / (1 + np.exp(-z))"
   ]
  },
  {
   "cell_type": "code",
   "execution_count": 229,
   "metadata": {},
   "outputs": [],
   "source": [
    "def hypothesisFunction (theta, x):\n",
    "    theta1 = theta[:10025].reshape(25, 401)\n",
    "    theta2 = theta[10025:].reshape(10, 26)\n",
    "    \n",
    "    a1 = np.c_[np.ones((x.shape[0], 1)), x]\n",
    "    z2 = np.dot(a1, theta1.T)\n",
    "    \n",
    "    a2 = np.c_[np.ones((x.shape[0], 1)), sigmoidFunction(z2)]\n",
    "    z3 = np.dot(a2, theta2.T)\n",
    "    \n",
    "    a3 = sigmoidFunction(z3)\n",
    "    return dict([('a3', a3), ('z2', z2), ('a2', a2), ('a1', a1)])"
   ]
  },
  {
   "cell_type": "code",
   "execution_count": 230,
   "metadata": {},
   "outputs": [],
   "source": [
    "def costFunction (h, y):\n",
    "    m = y.shape[0]\n",
    "    j = (1 / m) * (np.log(h).T.dot(-y) - np.log(1 - h).T.dot(1 - y))\n",
    "    costs = []\n",
    "    for number in range(10):\n",
    "        costs.append(j[number, number])\n",
    "    mainCosts = np.array(costs)\n",
    "    return mainCosts.flatten()"
   ]
  },
  {
   "cell_type": "code",
   "execution_count": 231,
   "metadata": {},
   "outputs": [
    {
     "data": {
      "text/plain": [
       "array([ 0.02115448,  0.03022682,  0.03946314,  0.02972325,  0.02998443,\n",
       "        0.02026629,  0.028228  ,  0.03474724,  0.03946383,  0.0143717 ])"
      ]
     },
     "execution_count": 231,
     "metadata": {},
     "output_type": "execute_result"
    }
   ],
   "source": [
    "costFunction (hypothesisFunction(initialTheta, x)['a3'], y)"
   ]
  },
  {
   "cell_type": "code",
   "execution_count": 232,
   "metadata": {},
   "outputs": [],
   "source": [
    "def regularizedCostFunction (costs, theta, λ = 0.1):\n",
    "    theta1 = theta[:10025].reshape(25, 401)\n",
    "    theta2 = theta[10025:].reshape(10, 26)\n",
    "    m = y.shape[0]\n",
    "    costs += ((λ / (2 * m)) * (np.sum(np.square(theta1[:, 1:])) + np.sum(np.square(theta2[:, 1:]))))\n",
    "    return costs"
   ]
  },
  {
   "cell_type": "code",
   "execution_count": 233,
   "metadata": {},
   "outputs": [
    {
     "data": {
      "text/plain": [
       "array([ 0.03076855,  0.03984089,  0.04907721,  0.03933732,  0.0395985 ,\n",
       "        0.02988036,  0.03784207,  0.04436131,  0.0490779 ,  0.02398576])"
      ]
     },
     "execution_count": 233,
     "metadata": {},
     "output_type": "execute_result"
    }
   ],
   "source": [
    "regularizedCostFunction (costFunction (hypothesisFunction(initialTheta, x)['a3'], y), initialTheta, 0.1)"
   ]
  },
  {
   "cell_type": "code",
   "execution_count": 234,
   "metadata": {},
   "outputs": [],
   "source": [
    "def sigmoidGradient (z):\n",
    "    return sigmoidFunction(z) * (1 - sigmoidFunction(z))"
   ]
  },
  {
   "cell_type": "code",
   "execution_count": 235,
   "metadata": {},
   "outputs": [],
   "source": [
    "randomTheta = np.random.uniform(low = -0.12, high = 0.12, size = (10285, 1))"
   ]
  },
  {
   "cell_type": "code",
   "execution_count": 236,
   "metadata": {},
   "outputs": [],
   "source": [
    "def backPropagationFunction (theta, y, h):\n",
    "    m = y.shape[0]\n",
    "    theta2 = theta[10025:].reshape(10, 26)\n",
    "    a3 = h['a3']\n",
    "    z2 = h['z2']\n",
    "    a2 = h['a2']\n",
    "    a1 = h['a1']\n",
    "    𝛿3 = a3 - y\n",
    "    𝛿2 = np.dot(𝛿3, theta2)[:, 1:] * sigmoidGradient(z2)\n",
    "    Δ2 = np.dot(a2.T, 𝛿3)\n",
    "    Δ1 = np.dot(a1.T, 𝛿2)\n",
    "    D2 = 1 / m * Δ2\n",
    "    D1 = 1 / m * Δ1\n",
    "    return np.concatenate((D1.flatten(), D2.flatten()))"
   ]
  },
  {
   "cell_type": "code",
   "execution_count": 237,
   "metadata": {},
   "outputs": [],
   "source": [
    "def regularizedBackPropagationFunction (theta, backPropagationFunction, m, λ = 0.1):\n",
    "    theta1 = initialTheta[:10025].reshape(401, 25)\n",
    "    theta2 = initialTheta[10025:].reshape(26, 10)\n",
    "    \n",
    "    D1 = backPropagationFunction[:10025].reshape(25, 401)\n",
    "    D1 = D1.T[:, 1:] + (λ / m) * theta1[:, 1:]\n",
    "    \n",
    "    D2 = backPropagationFunction[10025:].reshape(10, 26)\n",
    "    D2 = D2.T[:, 1:] + (λ / m) * theta2[:, 1:]\n",
    "    return np.concatenate((D1.flatten(), D2.flatten()))"
   ]
  },
  {
   "cell_type": "code",
   "execution_count": 238,
   "metadata": {},
   "outputs": [],
   "source": [
    "def computeNumericalGradient (theta1, theta2, ϵ):\n",
    "    f = []\n",
    "    epsilonVector1 = np.zeros((25, 401))\n",
    "    for number1 in np.nditer(epsilonVector1, op_flags=['readwrite']):\n",
    "        number1 += ϵ\n",
    "        theta1Plus = theta1 + epsilonVector1\n",
    "        theta1Minus = theta1 - epsilonVector1\n",
    "        jPlus = costFunction (y[:500], hypothesisFunction(x[:500], theta1Plus, theta2)['a3'])\n",
    "        jMinus = costFunction (y[:500], hypothesisFunction(x[:500], theta1Minus, theta2)['a3'])\n",
    "        f.append((jPlus + jMinus) / (2 * ϵ))\n",
    "        number1 -= ϵ\n",
    "    epsilonVector2 = np.zeros((10, 26))\n",
    "    for number2 in np.nditer(epsilonVector2, op_flags=['readwrite']):\n",
    "        number2 += ϵ\n",
    "        theta2Plus = theta2 + epsilonVector2\n",
    "        theta2Minus = theta2 - epsilonVector2\n",
    "        jPlus = costFunction (y[:500], hypothesisFunction(x[:500, :], theta1, theta2Plus)['a3'])\n",
    "        jMinus = costFunction (y[:500], hypothesisFunction(x[:500, :], theta1, theta2Minus)['a3'])\n",
    "        f.append((jPlus + jMinus) / (2 * ϵ))\n",
    "        number2 -= ϵ\n",
    "    return np.array(f)"
   ]
  },
  {
   "cell_type": "code",
   "execution_count": 239,
   "metadata": {},
   "outputs": [],
   "source": [
    "def optimize (cost, theta, backPropagationFunction, x, y, λ):\n",
    "    return sc.optimize.minimize(cost, theta, args = (x, y, λ), method = 'CG', jac = backPropagationFunction, options = {'maxiter':50, 'disp':True})"
   ]
  },
  {
   "cell_type": "code",
   "execution_count": 240,
   "metadata": {},
   "outputs": [
    {
     "ename": "TypeError",
     "evalue": "'numpy.ndarray' object is not callable",
     "output_type": "error",
     "traceback": [
      "\u001b[1;31m---------------------------------------------------------------------------\u001b[0m",
      "\u001b[1;31mTypeError\u001b[0m                                 Traceback (most recent call last)",
      "\u001b[1;32m<ipython-input-240-c8edd29f35f1>\u001b[0m in \u001b[0;36m<module>\u001b[1;34m()\u001b[0m\n\u001b[0;32m      4\u001b[0m \u001b[0mbackPropagation\u001b[0m \u001b[1;33m=\u001b[0m \u001b[0mbackPropagationFunction\u001b[0m\u001b[1;33m(\u001b[0m\u001b[0minitialTheta\u001b[0m\u001b[1;33m,\u001b[0m \u001b[0my\u001b[0m\u001b[1;33m,\u001b[0m \u001b[0mh\u001b[0m\u001b[1;33m)\u001b[0m\u001b[1;33m\u001b[0m\u001b[0m\n\u001b[0;32m      5\u001b[0m \u001b[1;31m#optimize(cost, initialTheta, backPropagation, (x, y, 0.1))\u001b[0m\u001b[1;33m\u001b[0m\u001b[1;33m\u001b[0m\u001b[0m\n\u001b[1;32m----> 6\u001b[1;33m \u001b[0moptimum\u001b[0m \u001b[1;33m=\u001b[0m \u001b[0msc\u001b[0m\u001b[1;33m.\u001b[0m\u001b[0moptimize\u001b[0m\u001b[1;33m.\u001b[0m\u001b[0mfmin_cg\u001b[0m\u001b[1;33m(\u001b[0m\u001b[0mcost\u001b[0m\u001b[1;33m,\u001b[0m \u001b[0minitialTheta\u001b[0m\u001b[1;33m,\u001b[0m \u001b[0mfprime\u001b[0m \u001b[1;33m=\u001b[0m \u001b[0mbackPropagation\u001b[0m\u001b[1;33m,\u001b[0m \u001b[0margs\u001b[0m \u001b[1;33m=\u001b[0m \u001b[1;33m(\u001b[0m\u001b[0mx\u001b[0m\u001b[1;33m,\u001b[0m \u001b[0my\u001b[0m\u001b[1;33m,\u001b[0m \u001b[1;36m0.1\u001b[0m\u001b[1;33m)\u001b[0m\u001b[1;33m,\u001b[0m \u001b[0mmaxiter\u001b[0m \u001b[1;33m=\u001b[0m \u001b[1;36m50\u001b[0m\u001b[1;33m,\u001b[0m \u001b[0mdisp\u001b[0m \u001b[1;33m=\u001b[0m \u001b[1;32mTrue\u001b[0m\u001b[1;33m)\u001b[0m\u001b[1;33m\u001b[0m\u001b[0m\n\u001b[0m",
      "\u001b[1;32mc:\\users\\hamed\\appdata\\local\\programs\\python\\python36\\lib\\site-packages\\scipy\\optimize\\optimize.py\u001b[0m in \u001b[0;36mfmin_cg\u001b[1;34m(f, x0, fprime, args, gtol, norm, epsilon, maxiter, full_output, disp, retall, callback)\u001b[0m\n\u001b[0;32m   1205\u001b[0m             'return_all': retall}\n\u001b[0;32m   1206\u001b[0m \u001b[1;33m\u001b[0m\u001b[0m\n\u001b[1;32m-> 1207\u001b[1;33m     \u001b[0mres\u001b[0m \u001b[1;33m=\u001b[0m \u001b[0m_minimize_cg\u001b[0m\u001b[1;33m(\u001b[0m\u001b[0mf\u001b[0m\u001b[1;33m,\u001b[0m \u001b[0mx0\u001b[0m\u001b[1;33m,\u001b[0m \u001b[0margs\u001b[0m\u001b[1;33m,\u001b[0m \u001b[0mfprime\u001b[0m\u001b[1;33m,\u001b[0m \u001b[0mcallback\u001b[0m\u001b[1;33m=\u001b[0m\u001b[0mcallback\u001b[0m\u001b[1;33m,\u001b[0m \u001b[1;33m**\u001b[0m\u001b[0mopts\u001b[0m\u001b[1;33m)\u001b[0m\u001b[1;33m\u001b[0m\u001b[0m\n\u001b[0m\u001b[0;32m   1208\u001b[0m \u001b[1;33m\u001b[0m\u001b[0m\n\u001b[0;32m   1209\u001b[0m     \u001b[1;32mif\u001b[0m \u001b[0mfull_output\u001b[0m\u001b[1;33m:\u001b[0m\u001b[1;33m\u001b[0m\u001b[0m\n",
      "\u001b[1;32mc:\\users\\hamed\\appdata\\local\\programs\\python\\python36\\lib\\site-packages\\scipy\\optimize\\optimize.py\u001b[0m in \u001b[0;36m_minimize_cg\u001b[1;34m(fun, x0, args, jac, callback, gtol, norm, eps, maxiter, disp, return_all, **unknown_options)\u001b[0m\n\u001b[0;32m   1256\u001b[0m     \u001b[1;32melse\u001b[0m\u001b[1;33m:\u001b[0m\u001b[1;33m\u001b[0m\u001b[0m\n\u001b[0;32m   1257\u001b[0m         \u001b[0mgrad_calls\u001b[0m\u001b[1;33m,\u001b[0m \u001b[0mmyfprime\u001b[0m \u001b[1;33m=\u001b[0m \u001b[0mwrap_function\u001b[0m\u001b[1;33m(\u001b[0m\u001b[0mfprime\u001b[0m\u001b[1;33m,\u001b[0m \u001b[0margs\u001b[0m\u001b[1;33m)\u001b[0m\u001b[1;33m\u001b[0m\u001b[0m\n\u001b[1;32m-> 1258\u001b[1;33m     \u001b[0mgfk\u001b[0m \u001b[1;33m=\u001b[0m \u001b[0mmyfprime\u001b[0m\u001b[1;33m(\u001b[0m\u001b[0mx0\u001b[0m\u001b[1;33m)\u001b[0m\u001b[1;33m\u001b[0m\u001b[0m\n\u001b[0m\u001b[0;32m   1259\u001b[0m     \u001b[0mk\u001b[0m \u001b[1;33m=\u001b[0m \u001b[1;36m0\u001b[0m\u001b[1;33m\u001b[0m\u001b[0m\n\u001b[0;32m   1260\u001b[0m     \u001b[0mxk\u001b[0m \u001b[1;33m=\u001b[0m \u001b[0mx0\u001b[0m\u001b[1;33m\u001b[0m\u001b[0m\n",
      "\u001b[1;32mc:\\users\\hamed\\appdata\\local\\programs\\python\\python36\\lib\\site-packages\\scipy\\optimize\\optimize.py\u001b[0m in \u001b[0;36mfunction_wrapper\u001b[1;34m(*wrapper_args)\u001b[0m\n\u001b[0;32m    290\u001b[0m     \u001b[1;32mdef\u001b[0m \u001b[0mfunction_wrapper\u001b[0m\u001b[1;33m(\u001b[0m\u001b[1;33m*\u001b[0m\u001b[0mwrapper_args\u001b[0m\u001b[1;33m)\u001b[0m\u001b[1;33m:\u001b[0m\u001b[1;33m\u001b[0m\u001b[0m\n\u001b[0;32m    291\u001b[0m         \u001b[0mncalls\u001b[0m\u001b[1;33m[\u001b[0m\u001b[1;36m0\u001b[0m\u001b[1;33m]\u001b[0m \u001b[1;33m+=\u001b[0m \u001b[1;36m1\u001b[0m\u001b[1;33m\u001b[0m\u001b[0m\n\u001b[1;32m--> 292\u001b[1;33m         \u001b[1;32mreturn\u001b[0m \u001b[0mfunction\u001b[0m\u001b[1;33m(\u001b[0m\u001b[1;33m*\u001b[0m\u001b[1;33m(\u001b[0m\u001b[0mwrapper_args\u001b[0m \u001b[1;33m+\u001b[0m \u001b[0margs\u001b[0m\u001b[1;33m)\u001b[0m\u001b[1;33m)\u001b[0m\u001b[1;33m\u001b[0m\u001b[0m\n\u001b[0m\u001b[0;32m    293\u001b[0m \u001b[1;33m\u001b[0m\u001b[0m\n\u001b[0;32m    294\u001b[0m     \u001b[1;32mreturn\u001b[0m \u001b[0mncalls\u001b[0m\u001b[1;33m,\u001b[0m \u001b[0mfunction_wrapper\u001b[0m\u001b[1;33m\u001b[0m\u001b[0m\n",
      "\u001b[1;31mTypeError\u001b[0m: 'numpy.ndarray' object is not callable"
     ]
    }
   ],
   "source": [
    "initialTheta = initialTheta.flatten()\n",
    "h = hypothesisFunction(initialTheta, x)\n",
    "cost = costFunction(h['a3'], y)\n",
    "backPropagation = backPropagationFunction(initialTheta, y, h)\n",
    "#optimize(cost, initialTheta, backPropagation, (x, y, 0.1))\n",
    "optimum = sc.optimize.fmin_cg(cost, initialTheta, fprime = backPropagation, args = (x, y, 0.1), maxiter = 50, disp = True)"
   ]
  },
  {
   "cell_type": "code",
   "execution_count": null,
   "metadata": {},
   "outputs": [],
   "source": []
  }
 ],
 "metadata": {
  "kernelspec": {
   "display_name": "Python 3",
   "language": "python",
   "name": "python3"
  },
  "language_info": {
   "codemirror_mode": {
    "name": "ipython",
    "version": 3
   },
   "file_extension": ".py",
   "mimetype": "text/x-python",
   "name": "python",
   "nbconvert_exporter": "python",
   "pygments_lexer": "ipython3",
   "version": "3.6.3"
  }
 },
 "nbformat": 4,
 "nbformat_minor": 2
}
