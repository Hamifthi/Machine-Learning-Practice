{
 "cells": [
  {
   "cell_type": "code",
   "execution_count": 401,
   "metadata": {},
   "outputs": [],
   "source": [
    "import pandas as pd\n",
    "import scipy as sc\n",
    "import numpy as np\n",
    "import matplotlib.pyplot as plt\n",
    "import seaborn as sns\n",
    "from scipy.io import loadmat\n",
    "%matplotlib inline\n",
    "sns.set()"
   ]
  },
  {
   "cell_type": "code",
   "execution_count": 402,
   "metadata": {},
   "outputs": [],
   "source": [
    "data = loadmat('ex4data1.mat')\n",
    "weights = loadmat('ex4weights.mat')\n",
    "x = data['X'].flatten()\n",
    "y = (np.zeros(50000)).reshape(5000, 10)\n",
    "m = y.shape[0]\n",
    "initialTheta = np.concatenate((weights['Theta1'].flatten(), weights['Theta2'].flatten()), axis = 0)\n",
    "theta1 = initialTheta[:10025].reshape(25, 401)\n",
    "theta2 = initialTheta[10025:].reshape(10, 26)"
   ]
  },
  {
   "cell_type": "code",
   "execution_count": 403,
   "metadata": {},
   "outputs": [],
   "source": [
    "for number in range(0, 10):\n",
    "    if number == 0:\n",
    "        y[0:500, 9:] = 1\n",
    "    else:\n",
    "        y[number * 500:(number + 1) * 500, number - 1:number] = 1\n",
    "        \n",
    "y = y.flatten()"
   ]
  },
  {
   "cell_type": "code",
   "execution_count": 404,
   "metadata": {},
   "outputs": [
    {
     "data": {
      "image/png": "[encoded data removed]",
      "text/plain": [
       "<matplotlib.figure.Figure at 0x225c76042b0>"
      ]
     },
     "metadata": {},
     "output_type": "display_data"
    }
   ],
   "source": [
    "x = x.reshape(5000, 400)\n",
    "sample = np.random.choice(x.shape[0], 20)\n",
    "plt.imshow(x[sample, :].reshape(-1, 20).T, cmap='gray')\n",
    "plt.axis('off');"
   ]
  },
  {
   "cell_type": "code",
   "execution_count": 405,
   "metadata": {},
   "outputs": [],
   "source": [
    "def sigmoidFunction (z):\n",
    "    return 1 / (1 + np.exp(-z))"
   ]
  },
  {
   "cell_type": "code",
   "execution_count": 406,
   "metadata": {},
   "outputs": [],
   "source": [
    "def hypothesisFunction (theta, x):\n",
    "    x = x.reshape(5000, 400)\n",
    "    theta = theta.reshape(10285, 1)\n",
    "    theta1, theta2 = np.split(theta, [10025])\n",
    "    theta1 = theta1.reshape(25, 401)\n",
    "    theta2 = theta2.reshape(10, 26)\n",
    "    h = list(np.zeros((5000, 1)))\n",
    "    \n",
    "    for number in range(m):\n",
    "        x[number] = x[number].reshape(1, 400)\n",
    "        a1 = np.c_[np.ones((1, 1)), x[number].reshape(1, 400)]\n",
    "        z2 = np.dot(a1, theta1.T)\n",
    "\n",
    "        a2 = np.c_[np.ones(1), sigmoidFunction(z2)]\n",
    "        z3 = np.dot(a2, theta2.T)\n",
    "\n",
    "        a3 = sigmoidFunction(z3)\n",
    "        h[number] = np.concatenate((a3.flatten(), z2.flatten(), a2.flatten(), a1.flatten()))\n",
    "    return np.array(h).flatten()"
   ]
  },
  {
   "cell_type": "code",
   "execution_count": 407,
   "metadata": {},
   "outputs": [],
   "source": [
    "def costFunction (theta, x, y):\n",
    "    y = y.reshape(5000, 10)\n",
    "    h = hypothesisFunction(theta, x).reshape(5000, 462)[:, :10]\n",
    "    j = 0\n",
    "    for number in range(m):\n",
    "        j += (np.log(h[number].reshape(10, 1)).T.dot(-y[number].reshape(10, 1)) - np.log(1 - h[number].reshape(10, 1)).T.dot(1 - y[number].reshape(10, 1)))\n",
    "    j = np.dot((1 / m), j)\n",
    "    return j"
   ]
  },
  {
   "cell_type": "code",
   "execution_count": 408,
   "metadata": {},
   "outputs": [
    {
     "data": {
      "text/plain": [
       "array([[ 0.28762917]])"
      ]
     },
     "execution_count": 408,
     "metadata": {},
     "output_type": "execute_result"
    }
   ],
   "source": [
    "costFunction(initialTheta, x, y)"
   ]
  },
  {
   "cell_type": "code",
   "execution_count": 409,
   "metadata": {},
   "outputs": [],
   "source": [
    "def regularizedCostFunction (theta, x, y, λ = 0.1):\n",
    "    theta1, theta2 = np.split(theta, [10025])\n",
    "    theta1 = theta1.reshape(25, 401)\n",
    "    theta2 = theta2.reshape(10, 26)\n",
    "    cost = costFunction(theta, x, y)\n",
    "    cost += ((λ / (2 * m)) * (np.sum(np.square(theta1[:, 1:])) + np.sum(np.square(theta2[:, 1:]))))\n",
    "    return cost"
   ]
  },
  {
   "cell_type": "code",
   "execution_count": 410,
   "metadata": {},
   "outputs": [
    {
     "data": {
      "text/plain": [
       "array([[ 0.38376986]])"
      ]
     },
     "execution_count": 410,
     "metadata": {},
     "output_type": "execute_result"
    }
   ],
   "source": [
    "regularizedCostFunction(initialTheta, x, y, 1)"
   ]
  },
  {
   "cell_type": "code",
   "execution_count": 411,
   "metadata": {},
   "outputs": [],
   "source": [
    "def sigmoidGradient (z):\n",
    "    return sigmoidFunction(z) * (1 - sigmoidFunction(z))"
   ]
  },
  {
   "cell_type": "code",
   "execution_count": 412,
   "metadata": {},
   "outputs": [],
   "source": [
    "randomTheta = np.random.rand(10285) * 2 * 0.012 - 0.012"
   ]
  },
  {
   "cell_type": "code",
   "execution_count": 413,
   "metadata": {},
   "outputs": [],
   "source": [
    "def backPropagationFunction (theta, x, y):\n",
    "    y = y.reshape(5000, 10)\n",
    "    theta = theta.reshape(10285, 1)\n",
    "    theta2 = theta[10025:].reshape(10, 26)\n",
    "    h = hypothesisFunction(theta, x).reshape(5000, 462)\n",
    "    a3 = h[:, :10].reshape(5000, 10)\n",
    "    z2 = h[:, 10:35].reshape(5000, 25)\n",
    "    a2 = h[:, 35:61].reshape(5000, 26)\n",
    "    a1 = h[:, 61:].reshape(5000, 401)\n",
    "    𝛿3 = a3 - y\n",
    "    𝛿2 = np.dot(𝛿3, theta2[:, 1:]) * sigmoidGradient(z2)\n",
    "    Δ2 = np.dot(a2.T, 𝛿3)\n",
    "    Δ1 = np.dot(a1.T, 𝛿2)\n",
    "    D2 = np.dot(1 / m, Δ2)\n",
    "    D1 = np.dot(1 / m, Δ1)\n",
    "    return np.concatenate((D1.flatten(), D2.flatten()))"
   ]
  },
  {
   "cell_type": "code",
   "execution_count": 414,
   "metadata": {},
   "outputs": [],
   "source": [
    "def regularizedBackPropagationFunction (theta, x, y, λ = 0.1):\n",
    "    theta1 = theta[:10025].reshape(25, 401)\n",
    "    theta2 = theta[10025:].reshape(10, 26)\n",
    "    \n",
    "    D1 = backPropagationFunction(theta, x, y)[:10025].reshape(25, 401)\n",
    "    reg1 = D1[:, 1:] + ((λ / m) * theta1[:, 1:])\n",
    "    D1 = np.c_[D1[:, 1:2], reg1]\n",
    "    \n",
    "    D2 = backPropagationFunction(theta, x, y)[10025:].reshape(10, 26)\n",
    "    reg2 = D2[:, 1:] + ((λ / m) * theta2[:, 1:])\n",
    "    D2 = np.c_[D2[:, 1:2], reg2]\n",
    "\n",
    "    return np.concatenate((D1.flatten(), D2.flatten()))"
   ]
  },
  {
   "cell_type": "code",
   "execution_count": null,
   "metadata": {},
   "outputs": [],
   "source": []
  }
 ],
 "metadata": {
  "kernelspec": {
   "display_name": "Python 3",
   "language": "python",
   "name": "python3"
  },
  "language_info": {
   "codemirror_mode": {
    "name": "ipython",
    "version": 3
   },
   "file_extension": ".py",
   "mimetype": "text/x-python",
   "name": "python",
   "nbconvert_exporter": "python",
   "pygments_lexer": "ipython3",
   "version": "3.6.3"
  }
 },
 "nbformat": 4,
 "nbformat_minor": 2
}
