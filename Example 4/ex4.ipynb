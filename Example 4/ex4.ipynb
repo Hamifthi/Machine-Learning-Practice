{
 "cells": [
  {
   "cell_type": "code",
   "execution_count": 240,
   "metadata": {},
   "outputs": [],
   "source": [
    "import pandas as pd\n",
    "import scipy as sc\n",
    "import numpy as np\n",
    "import matplotlib.pyplot as plt\n",
    "import seaborn as sns\n",
    "from scipy.io import loadmat\n",
    "%matplotlib inline\n",
    "sns.set()"
   ]
  },
  {
   "cell_type": "code",
   "execution_count": 241,
   "metadata": {
    "scrolled": true
   },
   "outputs": [],
   "source": [
    "data = loadmat('ex4data1.mat')\n",
    "weights = loadmat('ex4weights.mat')\n",
    "x = data['X'].flatten()\n",
    "y = (np.zeros(50000)).reshape(5000, 10)\n",
    "m = y.shape[0]\n",
    "initialTheta = np.concatenate((weights['Theta1'].flatten(), weights['Theta2'].flatten()), axis = 0)\n",
    "theta1 = initialTheta[:10025].reshape(25, 401)\n",
    "theta2 = initialTheta[10025:].reshape(10, 26)"
   ]
  },
  {
   "cell_type": "code",
   "execution_count": 242,
   "metadata": {},
   "outputs": [],
   "source": [
    "for number in range(0, 10):\n",
    "    if number == 0:\n",
    "        y[0:500, 9:] = 1\n",
    "    else:\n",
    "        y[number * 500:(number + 1) * 500, number - 1:number] = 1\n",
    "        \n",
    "y = y.flatten()"
   ]
  },
  {
   "cell_type": "code",
   "execution_count": 243,
   "metadata": {},
   "outputs": [
    {
     "data": {
      "image/png": "[encoded data removed]",
      "text/plain": [
       "<matplotlib.figure.Figure at 0x1e1a93ea8d0>"
      ]
     },
     "metadata": {},
     "output_type": "display_data"
    }
   ],
   "source": [
    "x = x.reshape(5000, 400)\n",
    "sample = np.random.choice(x.shape[0], 20)\n",
    "plt.imshow(x[sample, :].reshape(-1, 20).T, cmap='gray')\n",
    "plt.axis('off');"
   ]
  },
  {
   "cell_type": "code",
   "execution_count": 244,
   "metadata": {},
   "outputs": [],
   "source": [
    "def sigmoidFunction (z):\n",
    "    return 1 / (1 + np.exp(-z))"
   ]
  },
  {
   "cell_type": "code",
   "execution_count": 246,
   "metadata": {},
   "outputs": [],
   "source": [
    "def forwardPropagationFunction (theta, x):\n",
    "    x = x.reshape(5000, 400)\n",
    "    theta1 = theta[:10025].reshape(25, 401)\n",
    "    theta2 = theta[10025:].reshape(10, 26)\n",
    "\n",
    "    a1 = np.c_[np.ones((x.shape[0], 1)), x]\n",
    "    z2 = np.dot(a1, theta1.T)\n",
    "\n",
    "    a2 = np.c_[np.ones((x.shape[0], 1)), sigmoidFunction(z2)]\n",
    "    z3 = np.dot(a2, theta2.T)\n",
    "\n",
    "    a3 = sigmoidFunction(z3)\n",
    "    return np.concatenate([a3.flatten(), z2.flatten(), a2.flatten(), a1.flatten()])"
   ]
  },
  {
   "cell_type": "code",
   "execution_count": 247,
   "metadata": {},
   "outputs": [],
   "source": [
    "def costFunction (theta, x, y):\n",
    "    y = y.reshape(5000, 10)\n",
    "    h = forwardPropagationFunction(theta, x)[:50000].reshape(5000, 10)\n",
    "    j = np.dot((1 / m), (np.log(h).T.dot(-y) - np.log(1 - h).T.dot(1 - y)))\n",
    "    costs = []\n",
    "    for number in range(10):\n",
    "        costs.append(j[number, number])\n",
    "    cost = np.sum(np.array(costs))\n",
    "    return cost"
   ]
  },
  {
   "cell_type": "code",
   "execution_count": 248,
   "metadata": {},
   "outputs": [
    {
     "data": {
      "text/plain": [
       "0.28762916516131892"
      ]
     },
     "execution_count": 248,
     "metadata": {},
     "output_type": "execute_result"
    }
   ],
   "source": [
    "costFunction(initialTheta, x, y)"
   ]
  },
  {
   "cell_type": "code",
   "execution_count": 249,
   "metadata": {},
   "outputs": [],
   "source": [
    "def regularizedCostFunction (theta, x, y, λ = 1):\n",
    "    theta1 = theta[:10025].reshape(25, 401)\n",
    "    theta2 = theta[10025:].reshape(10, 26)\n",
    "    cost = costFunction(theta, x, y)\n",
    "    cost += ((λ / (2 * m)) * (np.sum(np.square(theta1[:, 1:])) + np.sum(np.square(theta2[:, 1:]))))\n",
    "    return cost"
   ]
  },
  {
   "cell_type": "code",
   "execution_count": 250,
   "metadata": {},
   "outputs": [
    {
     "data": {
      "text/plain": [
       "0.38376985909092365"
      ]
     },
     "execution_count": 250,
     "metadata": {},
     "output_type": "execute_result"
    }
   ],
   "source": [
    "regularizedCostFunction(initialTheta, x, y, 1)"
   ]
  },
  {
   "cell_type": "code",
   "execution_count": 251,
   "metadata": {},
   "outputs": [],
   "source": [
    "def sigmoidGradient (z):\n",
    "    return sigmoidFunction(z) * (1 - sigmoidFunction(z))"
   ]
  },
  {
   "cell_type": "code",
   "execution_count": 252,
   "metadata": {},
   "outputs": [],
   "source": [
    "randomTheta = np.random.rand(10285) * 2 * 0.012 - 0.012"
   ]
  },
  {
   "cell_type": "code",
   "execution_count": 253,
   "metadata": {},
   "outputs": [],
   "source": [
    "def backPropagationFunction (theta, x, y):\n",
    "    y = y.reshape(5000, 10)\n",
    "    theta2 = theta[10025:].reshape(10, 26)\n",
    "    h = forwardPropagationFunction(theta, x)\n",
    "    a3 = h[:50000].reshape(5000, 10)\n",
    "    z2 = h[50000:175000].reshape(5000, 25)\n",
    "    a2 = h[175000:305000].reshape(5000, 26)\n",
    "    a1 = h[305000:].reshape(5000, 401)\n",
    "    𝛿3 = a3 - y\n",
    "    𝛿2 = np.dot(𝛿3, theta2)[:, 1:] * sigmoidGradient(z2)\n",
    "    Δ2 = np.dot(a2.T, 𝛿3).T\n",
    "    Δ1 = np.dot(a1.T, 𝛿2).T\n",
    "    D2 = np.dot(1 / m, Δ2)\n",
    "    D1 = np.dot(1 / m, Δ1)\n",
    "    return np.concatenate((D1.flatten(), D2.flatten()))"
   ]
  },
  {
   "cell_type": "code",
   "execution_count": 254,
   "metadata": {},
   "outputs": [],
   "source": [
    "def regularizedBackPropagationFunction (theta, x, y, λ = 1):\n",
    "    theta1 = theta[:10025].reshape(25, 401)\n",
    "    theta2 = theta[10025:].reshape(10, 26)\n",
    "    \n",
    "    D1 = backPropagationFunction(theta, x, y)[:10025].reshape(25, 401)\n",
    "    reg1 = D1[:, 1:] + ((λ / m) * theta1[:, 1:])\n",
    "    D1 = np.c_[D1[:, :1], reg1]\n",
    "    \n",
    "    D2 = backPropagationFunction(theta, x, y)[10025:].reshape(10, 26)\n",
    "    reg2 = D2[:, 1:] + ((λ / m) * theta2[:, 1:])\n",
    "    D2 = np.c_[D2[:, :1], reg2]\n",
    "\n",
    "    return np.concatenate((D1.flatten(), D2.flatten()))"
   ]
  },
  {
   "cell_type": "markdown",
   "metadata": {},
   "source": [
    "def computeNumericalGradient (theta, ϵ):\n",
    "    f = []\n",
    "    epsilonVector1 = np.zeros((10285))\n",
    "    for number1 in np.nditer(epsilonVector1, op_flags=['readwrite']):\n",
    "        number1 += ϵ\n",
    "        thetaPlus = theta + epsilonVector1\n",
    "        thetaMinus = theta - epsilonVector1\n",
    "        jPlus = costFunction(thetaPlus, x, y)\n",
    "        jMinus = costFunction(thetaMinus, x, y)\n",
    "        f.append((jPlus + jMinus) / (2 * ϵ))\n",
    "        number1 -= ϵ\n",
    "    return np.array(f)"
   ]
  },
  {
   "cell_type": "code",
   "execution_count": 259,
   "metadata": {},
   "outputs": [],
   "source": [
    "def optimize (cost, theta, backPropagation, x, y):\n",
    "    return sc.optimize.fmin_cg(cost, theta, fprime = backPropagation, args = (x, y), maxiter = 50, full_output = 1, disp = True)[0]"
   ]
  },
  {
   "cell_type": "code",
   "execution_count": 260,
   "metadata": {},
   "outputs": [
    {
     "name": "stdout",
     "output_type": "stream",
     "text": [
      "Warning: Maximum number of iterations has been exceeded.\n",
      "         Current function value: 0.347668\n",
      "         Iterations: 50\n",
      "         Function evaluations: 115\n",
      "         Gradient evaluations: 115\n"
     ]
    },
    {
     "data": {
      "text/plain": [
       "(10285,)"
      ]
     },
     "execution_count": 260,
     "metadata": {},
     "output_type": "execute_result"
    }
   ],
   "source": [
    "mainTheta = optimize(costFunction, randomTheta, backPropagationFunction, x, y)\n",
    "mainTheta.shape"
   ]
  },
  {
   "cell_type": "code",
   "execution_count": 261,
   "metadata": {},
   "outputs": [
    {
     "data": {
      "text/plain": [
       "array([[  4.33016354e-07,   3.87985422e-03,   4.48194559e-05, ...,\n",
       "          1.36045846e-04,   3.61020389e-04,   1.00000000e+00],\n",
       "       [  7.84606909e-07,   3.62359574e-03,   7.68601885e-05, ...,\n",
       "          1.17491384e-04,   4.06499611e-04,   1.00000000e+00],\n",
       "       [  1.12089201e-06,   4.81246368e-03,   2.58810812e-05, ...,\n",
       "          4.04165238e-03,   1.00211256e-03,   1.00000000e+00],\n",
       "       ..., \n",
       "       [  7.32921929e-03,   4.68564199e-03,   9.92293807e-03, ...,\n",
       "          9.48120847e-03,   1.00000000e+00,   6.19664300e-07],\n",
       "       [  6.82008364e-07,   9.97974158e-06,   6.75225880e-06, ...,\n",
       "          2.59217356e-02,   1.00000000e+00,   8.68826492e-06],\n",
       "       [  4.43990448e-07,   5.70655312e-04,   2.17859595e-07, ...,\n",
       "          2.05093693e-03,   1.00000000e+00,   4.10290510e-02]])"
      ]
     },
     "execution_count": 261,
     "metadata": {},
     "output_type": "execute_result"
    }
   ],
   "source": [
    "output = forwardPropagationFunction(mainTheta, x)[:50000].reshape(5000, 10)\n",
    "for number in range(0, 10):\n",
    "    if number == 0:\n",
    "        output[0:500, 9:] = 1\n",
    "    else:\n",
    "        output[number * 500:(number + 1) * 500, number - 1:number] = 1\n",
    "output"
   ]
  },
  {
   "cell_type": "code",
   "execution_count": null,
   "metadata": {},
   "outputs": [],
   "source": []
  }
 ],
 "metadata": {
  "kernelspec": {
   "display_name": "Python 3",
   "language": "python",
   "name": "python3"
  },
  "language_info": {
   "codemirror_mode": {
    "name": "ipython",
    "version": 3
   },
   "file_extension": ".py",
   "mimetype": "text/x-python",
   "name": "python",
   "nbconvert_exporter": "python",
   "pygments_lexer": "ipython3",
   "version": "3.6.3"
  }
 },
 "nbformat": 4,
 "nbformat_minor": 2
}
