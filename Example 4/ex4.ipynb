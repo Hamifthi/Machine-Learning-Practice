{
 "cells": [
  {
   "cell_type": "code",
   "execution_count": 84,
   "metadata": {},
   "outputs": [],
   "source": [
    "import pandas as pd\n",
    "import scipy as sc\n",
    "import numpy as np\n",
    "import matplotlib.pyplot as plt\n",
    "import seaborn as sns\n",
    "from scipy.io import loadmat\n",
    "import sys\n",
    "%matplotlib inline\n",
    "sns.set()"
   ]
  },
  {
   "cell_type": "code",
   "execution_count": 206,
   "metadata": {},
   "outputs": [
    {
     "data": {
      "text/plain": [
       "(10, 26)"
      ]
     },
     "execution_count": 206,
     "metadata": {},
     "output_type": "execute_result"
    }
   ],
   "source": [
    "data = loadmat('ex4data1.mat')\n",
    "weights = loadmat('ex4weights.mat')\n",
    "x = data['X']\n",
    "y = (np.zeros(50000)).reshape(5000, 10)\n",
    "theta1 = np.array(weights['Theta1'])\n",
    "theta2 = np.array(weights['Theta2'])\n",
    "theta2.shape"
   ]
  },
  {
   "cell_type": "code",
   "execution_count": 86,
   "metadata": {},
   "outputs": [],
   "source": [
    "for number in range(0, 10):\n",
    "    if number == 0:\n",
    "        y[0:500, 9:] = 1\n",
    "    else:\n",
    "        y[number * 500:(number + 1) * 500, number - 1:number] = 1"
   ]
  },
  {
   "cell_type": "code",
   "execution_count": 87,
   "metadata": {},
   "outputs": [
    {
     "data": {
      "image/png": "[encoded data removed]",
      "text/plain": [
       "<matplotlib.figure.Figure at 0x1d6d9191358>"
      ]
     },
     "metadata": {},
     "output_type": "display_data"
    }
   ],
   "source": [
    "sample = np.random.choice(x.shape[0], 20)\n",
    "plt.imshow(x[sample, :].reshape(-1, 20).T, cmap='gray')\n",
    "plt.axis('off');"
   ]
  },
  {
   "cell_type": "code",
   "execution_count": 182,
   "metadata": {},
   "outputs": [],
   "source": [
    "def sigmoidFunction (z):\n",
    "    return 1 / (1 + np.exp(-z))"
   ]
  },
  {
   "cell_type": "code",
   "execution_count": 183,
   "metadata": {},
   "outputs": [],
   "source": [
    "def hypothesisFunction (x, theta1, theta2):\n",
    "    a1 = np.c_[np.ones((data['X'].shape[0], 1)), x]\n",
    "    z2 = np.dot(a1, theta1.T)\n",
    "    \n",
    "    a2 = np.c_[np.ones((data['X'].shape[0], 1)), sigmoidFunction(z2)]\n",
    "    z3 = np.dot(a2, theta2.T)\n",
    "    \n",
    "    a3 = sigmoidFunction(z3)\n",
    "    return a3"
   ]
  },
  {
   "cell_type": "code",
   "execution_count": 184,
   "metadata": {},
   "outputs": [],
   "source": [
    "def costFunction (y, hypothesisFunction):\n",
    "    m = y.shape[0]\n",
    "    j = (1 / m) * (np.log(hypothesisFunction).T.dot(-y) - np.log(1 - hypothesisFunction).T.dot(1 - y))\n",
    "    return j"
   ]
  },
  {
   "cell_type": "code",
   "execution_count": 185,
   "metadata": {},
   "outputs": [],
   "source": [
    "c = costFunction (y, hypothesisFunction (x, theta1, theta2))\n",
    "costs = []\n",
    "for number in range(10):\n",
    "    costs.append(c[number, number])\n",
    "mainCosts = np.array(costs)"
   ]
  },
  {
   "cell_type": "code",
   "execution_count": 188,
   "metadata": {},
   "outputs": [],
   "source": [
    "def regularizedCostFunction (costs, theta1, theta2, λ):\n",
    "    m = y.shape[0]\n",
    "    costs += ((λ / (2 * m)) * (np.sum(np.square(theta1[:, 1:])) + np.sum(np.square(theta2[:, 1:]))))\n",
    "    return costs"
   ]
  },
  {
   "cell_type": "code",
   "execution_count": 194,
   "metadata": {},
   "outputs": [],
   "source": [
    "def sigmoidGradient (z):\n",
    "    return sigmoidFunction(z) * (1 - sigmoidFunction(z))"
   ]
  },
  {
   "cell_type": "code",
   "execution_count": 205,
   "metadata": {},
   "outputs": [
    {
     "data": {
      "text/plain": [
       "array([ 0.09404898,  0.02589311,  0.08158719,  0.03017832, -0.08230573,\n",
       "        0.07445133,  0.08148913,  0.11945514, -0.06945398,  0.09452466,\n",
       "        0.00909226, -0.11324863, -0.09328912, -0.0687822 , -0.06918055,\n",
       "        0.02090163,  0.11757824, -0.06861789,  0.06197137,  0.02453464,\n",
       "        0.06300883,  0.05606336, -0.02375768, -0.05626424,  0.06963536,\n",
       "       -0.11580368,  0.00524104,  0.04023932, -0.00789103, -0.00391377,\n",
       "        0.024583  ,  0.06486084, -0.09523311,  0.10953202,  0.1090455 ,\n",
       "        0.05974641, -0.01643543,  0.11745956, -0.06836113, -0.06138704,\n",
       "        0.08257853, -0.02896711, -0.0590416 ,  0.02500446,  0.01620924,\n",
       "       -0.05468832,  0.04657544, -0.0957701 , -0.00157938,  0.01071592,\n",
       "        0.04755824,  0.05778911,  0.03317235, -0.06212675,  0.00858277,\n",
       "       -0.04021017, -0.00577341,  0.09345215,  0.04718665,  0.08600463,\n",
       "       -0.08909346, -0.09394729, -0.00645325, -0.05085978,  0.05269362,\n",
       "        0.10711162, -0.1137321 , -0.0127173 , -0.05857665, -0.03479839,\n",
       "        0.02383311, -0.06086655, -0.01902267, -0.00236143, -0.06682422,\n",
       "       -0.02684812, -0.07530435, -0.01296502,  0.0051132 , -0.08834605,\n",
       "        0.04364743,  0.00930206, -0.01277249,  0.01922895, -0.0442607 ,\n",
       "       -0.0141744 , -0.05567972, -0.03541038,  0.09741933,  0.09167278,\n",
       "        0.07419933,  0.03510282,  0.05167852, -0.10144784,  0.03360614,\n",
       "       -0.03430308, -0.01347323,  0.08716172,  0.0028811 ,  0.06493805,\n",
       "        0.11517494, -0.07695684,  0.03283964,  0.04471109, -0.05877761,\n",
       "        0.0291697 , -0.0371769 , -0.01922327, -0.04839306,  0.11141394,\n",
       "        0.00618497, -0.11211325,  0.04784582, -0.00362152, -0.07243499,\n",
       "        0.01197901, -0.0295543 ,  0.00760554, -0.02141005, -0.06899773,\n",
       "        0.03790168, -0.07844728,  0.07616533,  0.0150438 ,  0.05884874,\n",
       "        0.09236811,  0.11102774,  0.08785981, -0.11941247, -0.05493424,\n",
       "       -0.10344054,  0.08917122, -0.00914069,  0.04995444, -0.07771414,\n",
       "        0.08619167,  0.00450637, -0.06020576,  0.08253193,  0.0682956 ,\n",
       "       -0.03061156,  0.06080054,  0.02072459,  0.0483218 ,  0.05743798,\n",
       "       -0.11345867,  0.10545544,  0.088481  ,  0.09486235,  0.06010398,\n",
       "       -0.0467582 , -0.05599221, -0.05253986, -0.05832019, -0.06086671,\n",
       "       -0.03861919,  0.05667116,  0.02463717,  0.03401655, -0.04848248,\n",
       "       -0.08139689,  0.02215963, -0.08068867,  0.0474566 ,  0.00737359,\n",
       "        0.09443679, -0.09546034, -0.1080876 ,  0.03100906,  0.04260476,\n",
       "       -0.02620354, -0.02965338, -0.060933  ,  0.07178812,  0.07529471,\n",
       "        0.113182  , -0.11866677,  0.00494121, -0.1114313 , -0.09494601,\n",
       "        0.11174287, -0.01959499,  0.05321949,  0.00076429,  0.02006891,\n",
       "       -0.01344262,  0.0093333 , -0.09469096,  0.01054549, -0.05900237,\n",
       "        0.08393059,  0.03858364,  0.03074707, -0.09312597, -0.02996706,\n",
       "        0.04662711,  0.07856611, -0.10463184, -0.00056252, -0.04653091,\n",
       "       -0.10149015, -0.05519552,  0.07810033,  0.05372376, -0.07476211,\n",
       "       -0.05581728, -0.04960737,  0.03840828,  0.03263502, -0.0657116 ,\n",
       "       -0.08066728, -0.10012582,  0.00375394, -0.06351133, -0.00185946,\n",
       "       -0.00383752,  0.08844667,  0.02930419, -0.03210755, -0.08510767,\n",
       "       -0.09260591,  0.06625167, -0.04655193,  0.03079972,  0.03318829,\n",
       "        0.07715526, -0.05156756, -0.01564453, -0.09329315,  0.03117848,\n",
       "        0.06433352,  0.09661054, -0.08669649, -0.00730614,  0.10125913,\n",
       "       -0.06740569, -0.02618865, -0.1184011 ,  0.04570404,  0.09354841,\n",
       "       -0.06152201,  0.11172403, -0.06313281, -0.01224691, -0.05602508,\n",
       "       -0.05233089, -0.11283549, -0.03720249, -0.04101631,  0.04119139,\n",
       "        0.07897593, -0.05288506, -0.09500148, -0.02152042,  0.01157596,\n",
       "        0.07568498,  0.04819509,  0.04817603,  0.11601859, -0.11179644,\n",
       "        0.01337669,  0.02585716,  0.03536255, -0.06875712,  0.07416981,\n",
       "        0.03119419, -0.02588035, -0.05272107, -0.00688886, -0.09990525,\n",
       "        0.11595914, -0.07560439,  0.0670007 ,  0.05610813, -0.10037837,\n",
       "       -0.07253944,  0.04738186,  0.01111953, -0.11053539,  0.09101749,\n",
       "       -0.01856817, -0.06252473, -0.10006503,  0.01675812,  0.01832555,\n",
       "       -0.0067323 , -0.03408762,  0.00663821, -0.0685317 , -0.03732094,\n",
       "        0.0958819 ,  0.07667312, -0.05332066, -0.03581374,  0.00280475,\n",
       "       -0.04409894, -0.0628639 , -0.09891864,  0.06027532, -0.11347121,\n",
       "        0.02280192, -0.01577459, -0.0681539 , -0.08296755, -0.10221389,\n",
       "        0.04043142, -0.00777869, -0.08960085,  0.05878233,  0.02837336,\n",
       "        0.06456392, -0.0752283 ,  0.03717143, -0.00204412,  0.1001212 ,\n",
       "       -0.05414355,  0.00034677, -0.09330766,  0.09277502, -0.04240952,\n",
       "       -0.05680157, -0.03485759, -0.04759785, -0.00483536, -0.01791091,\n",
       "        0.10334139, -0.0256727 ,  0.09446337,  0.0384696 ,  0.00692543,\n",
       "       -0.06531161, -0.06225012,  0.09690784,  0.1052727 ,  0.02088694,\n",
       "        0.00832895, -0.05173739, -0.01740525, -0.07654673, -0.07480933,\n",
       "        0.00110325, -0.01231413,  0.09859272,  0.0759266 , -0.03974662,\n",
       "       -0.08156973,  0.08473513,  0.10493979, -0.11481102, -0.03495057,\n",
       "       -0.01226141,  0.04896509, -0.06708153, -0.06718756,  0.11212045,\n",
       "       -0.04566832,  0.11721754, -0.11174122, -0.01533248,  0.07692572,\n",
       "       -0.11392485,  0.01380286,  0.08966828,  0.08823745,  0.07136989,\n",
       "       -0.05465268,  0.05356783, -0.06551968,  0.02503825,  0.07758271,\n",
       "        0.03347784,  0.08484194,  0.08648582, -0.10712718, -0.08369763,\n",
       "        0.06403343,  0.03635775, -0.03246897, -0.11084762,  0.08990548,\n",
       "       -0.00398909, -0.09558686,  0.0551926 ,  0.01524076,  0.08553099,\n",
       "       -0.04659903, -0.11894456,  0.04825095, -0.10273184,  0.03483093,\n",
       "       -0.05282889, -0.0172097 , -0.04469691, -0.05703737, -0.10785275,\n",
       "       -0.00323958, -0.02740747, -0.08516027,  0.01386481, -0.11763282])"
      ]
     },
     "execution_count": 205,
     "metadata": {},
     "output_type": "execute_result"
    }
   ],
   "source": [
    "randomTheta1 = np.random.uniform(low = -0.12, high = 0.12, size = (25, 400))\n",
    "randomTheta2 = np.random.uniform(low = -0.12, high = 0.12, size = (10, 25))"
   ]
  },
  {
   "cell_type": "code",
   "execution_count": null,
   "metadata": {},
   "outputs": [],
   "source": []
  }
 ],
 "metadata": {
  "kernelspec": {
   "display_name": "Python 3",
   "language": "python",
   "name": "python3"
  },
  "language_info": {
   "codemirror_mode": {
    "name": "ipython",
    "version": 3
   },
   "file_extension": ".py",
   "mimetype": "text/x-python",
   "name": "python",
   "nbconvert_exporter": "python",
   "pygments_lexer": "ipython3",
   "version": "3.6.3"
  }
 },
 "nbformat": 4,
 "nbformat_minor": 2
}
