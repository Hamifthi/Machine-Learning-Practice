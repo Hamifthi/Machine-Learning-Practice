{
 "cells": [
  {
   "cell_type": "code",
   "execution_count": 20,
   "metadata": {},
   "outputs": [],
   "source": [
    "import pandas as pd\n",
    "import scipy as sc\n",
    "import numpy as np\n",
    "import matplotlib.pyplot as plt\n",
    "import seaborn as sns\n",
    "from scipy.io import loadmat\n",
    "%matplotlib inline\n",
    "sns.set()"
   ]
  },
  {
   "cell_type": "code",
   "execution_count": 34,
   "metadata": {},
   "outputs": [],
   "source": [
    "data = loadmat('ex4data1.mat')\n",
    "weights = loadmat('ex4weights.mat')\n",
    "x = data['X'].flatten()\n",
    "y = (np.zeros(50000)).reshape(5000, 10)\n",
    "m = y.shape[0]\n",
    "initialTheta = np.concatenate((weights['Theta1'].flatten(), weights['Theta2'].flatten()), axis = 0).reshape(-1, 1)\n",
    "theta1 = initialTheta[:10025].reshape(25, 401)\n",
    "theta2 = initialTheta[10025:].reshape(10, 26)"
   ]
  },
  {
   "cell_type": "code",
   "execution_count": 35,
   "metadata": {},
   "outputs": [],
   "source": [
    "for number in range(0, 10):\n",
    "    if number == 0:\n",
    "        y[0:500, 9:] = 1\n",
    "    else:\n",
    "        y[number * 500:(number + 1) * 500, number - 1:number] = 1\n",
    "        \n",
    "y = y.flatten()"
   ]
  },
  {
   "cell_type": "code",
   "execution_count": 36,
   "metadata": {},
   "outputs": [
    {
     "data": {
      "image/png": "[encoded data removed]",
      "text/plain": [
       "<matplotlib.figure.Figure at 0x1ade1633940>"
      ]
     },
     "metadata": {},
     "output_type": "display_data"
    }
   ],
   "source": [
    "x = x.reshape(5000, 400)\n",
    "sample = np.random.choice(x.shape[0], 20)\n",
    "plt.imshow(x[sample, :].reshape(-1, 20).T, cmap='gray')\n",
    "plt.axis('off');"
   ]
  },
  {
   "cell_type": "code",
   "execution_count": 37,
   "metadata": {},
   "outputs": [],
   "source": [
    "def sigmoidFunction (z):\n",
    "    return 1 / (1 + np.exp(-z))"
   ]
  },
  {
   "cell_type": "code",
   "execution_count": 38,
   "metadata": {},
   "outputs": [],
   "source": [
    "def hypothesisFunction (theta, x):\n",
    "    x = x.reshape(5000, 400)\n",
    "    theta1 = theta[:10025].reshape(25, 401)\n",
    "    theta2 = theta[10025:].reshape(10, 26)\n",
    "    \n",
    "    a1 = np.c_[np.ones((x.shape[0], 1)), x]\n",
    "    z2 = np.dot(a1, theta1.T)\n",
    "    \n",
    "    a2 = np.c_[np.ones((x.shape[0], 1)), sigmoidFunction(z2)]\n",
    "    z3 = np.dot(a2, theta2.T)\n",
    "    \n",
    "    a3 = sigmoidFunction(z3)\n",
    "    return np.concatenate((a3.flatten(), z2.flatten(), a2.flatten(), a1.flatten())).flatten()"
   ]
  },
  {
   "cell_type": "code",
   "execution_count": 39,
   "metadata": {},
   "outputs": [],
   "source": [
    "def costFunction (theta, x, y):\n",
    "    y = y.reshape(5000, 10)\n",
    "    h = hypothesisFunction(theta, x)[:50000].reshape(5000, 10)\n",
    "    j = np.dot((1 / m), (np.log(h).T.dot(-y) - np.log(1 - h).T.dot(1 - y)))\n",
    "    j = np.sum(j)\n",
    "    '''costs = []\n",
    "    for number in range(10):\n",
    "        costs.append(j[number, number])\n",
    "    cost = sum(costs)'''\n",
    "    return j"
   ]
  },
  {
   "cell_type": "code",
   "execution_count": 40,
   "metadata": {},
   "outputs": [
    {
     "data": {
      "text/plain": [
       "89.366164138271614"
      ]
     },
     "execution_count": 40,
     "metadata": {},
     "output_type": "execute_result"
    }
   ],
   "source": [
    "np.sum(costFunction(initialTheta, x, y))"
   ]
  },
  {
   "cell_type": "code",
   "execution_count": 41,
   "metadata": {},
   "outputs": [],
   "source": [
    "def regularizedCostFunction (theta, x, y, λ = 0.1):\n",
    "    theta1 = theta[:10025].reshape(25, 401)\n",
    "    theta2 = theta[10025:].reshape(10, 26)\n",
    "    cost = costFunction(theta, x, y)\n",
    "    cost += ((λ / (2 * m)) * (np.sum(np.square(theta1[:, 1:])) + np.sum(np.square(theta2[:, 1:]))))\n",
    "    return cost"
   ]
  },
  {
   "cell_type": "code",
   "execution_count": 42,
   "metadata": {},
   "outputs": [
    {
     "data": {
      "text/plain": [
       "89.375778207664581"
      ]
     },
     "execution_count": 42,
     "metadata": {},
     "output_type": "execute_result"
    }
   ],
   "source": [
    "regularizedCostFunction(initialTheta, x, y, 0.1)"
   ]
  },
  {
   "cell_type": "code",
   "execution_count": 43,
   "metadata": {},
   "outputs": [],
   "source": [
    "def sigmoidGradient (z):\n",
    "    return sigmoidFunction(z) * (1 - sigmoidFunction(z))"
   ]
  },
  {
   "cell_type": "code",
   "execution_count": 44,
   "metadata": {},
   "outputs": [],
   "source": [
    "randomTheta = np.random.rand(10285) * 2 * 0.12 - 0.12"
   ]
  },
  {
   "cell_type": "code",
   "execution_count": 45,
   "metadata": {},
   "outputs": [],
   "source": [
    "def backPropagationFunction (theta, x, y):\n",
    "    y = y.reshape(5000, 10)\n",
    "    theta2 = theta[10025:].reshape(10, 26)\n",
    "    a3 = hypothesisFunction(theta, x)[:50000].reshape(5000, 10)\n",
    "    z2 = hypothesisFunction(theta, x)[50000:175000].reshape(5000, 25)\n",
    "    a2 = hypothesisFunction(theta, x)[175000:305000].reshape(5000, 26)\n",
    "    a1 = hypothesisFunction(theta, x)[305000:].reshape(5000, 401)\n",
    "    𝛿3 = a3 - y\n",
    "    𝛿2 = np.dot(𝛿3, theta2)[:, 1:] * sigmoidGradient(z2)\n",
    "    Δ2 = np.dot(a2.T, 𝛿3)\n",
    "    Δ1 = np.dot(a1.T, 𝛿2)\n",
    "    D2 = np.dot(1 / m, Δ2)\n",
    "    D1 = np.dot(1 / m, Δ1)\n",
    "    return np.concatenate((D1.flatten(), D2.flatten()))"
   ]
  },
  {
   "cell_type": "code",
   "execution_count": 46,
   "metadata": {},
   "outputs": [],
   "source": [
    "def regularizedBackPropagationFunction (theta, x, y, λ = 0.1):\n",
    "    theta1 = theta[:10025].reshape(25, 401)\n",
    "    theta2 = theta[10025:].reshape(10, 26)\n",
    "    \n",
    "    D1 = backPropagationFunction(theta, x, y)[:10025].reshape(25, 401)\n",
    "    D1 = D1[:, 1:] + ((λ / m) * theta1[:, 1:])\n",
    "    \n",
    "    D2 = backPropagationFunction(theta, x, y)[10025:].reshape(10, 26)\n",
    "    D2 = D2[:, 1:] + ((λ / m) * theta2[:, 1:])\n",
    "    return np.concatenate((D1.flatten(), D2.flatten()))"
   ]
  },
  {
   "cell_type": "code",
   "execution_count": 47,
   "metadata": {},
   "outputs": [
    {
     "name": "stdout",
     "output_type": "stream",
     "text": [
      "[ 0.49417481  0.41889458  0.49761167 ...,  0.          0.          0.        ]\n",
      "65.9105265877\n",
      "[ 0.02477675 -0.00485149  0.00137705 ...,  0.21473572  0.15866197\n",
      "  0.1713761 ]\n"
     ]
    }
   ],
   "source": [
    "h = hypothesisFunction(randomTheta, x)\n",
    "cost = regularizedCostFunction(randomTheta, x, y)\n",
    "backPropagation = backPropagationFunction(randomTheta, x, y)\n",
    "print(h)\n",
    "print(cost)\n",
    "print(backPropagation)"
   ]
  },
  {
   "cell_type": "code",
   "execution_count": 48,
   "metadata": {},
   "outputs": [
    {
     "name": "stdout",
     "output_type": "stream",
     "text": [
      "Warning: Desired error not necessarily achieved due to precision loss.\n",
      "         Current function value: 32.884817\n",
      "         Iterations: 2\n",
      "         Function evaluations: 55\n",
      "         Gradient evaluations: 44\n"
     ]
    },
    {
     "data": {
      "text/plain": [
       "(array([-0.03037507, -0.0539323 ,  0.09691366, ..., -0.18964825,\n",
       "        -0.15245754, -0.03380208]), 32.884817056800294, 55, 44, 2)"
      ]
     },
     "execution_count": 48,
     "metadata": {},
     "output_type": "execute_result"
    }
   ],
   "source": [
    "optimum = sc.optimize.fmin_cg(costFunction, randomTheta, fprime = backPropagationFunction, args = (x, y), maxiter = 50, full_output = 1, disp = True)\n",
    "optimum"
   ]
  },
  {
   "cell_type": "code",
   "execution_count": null,
   "metadata": {},
   "outputs": [],
   "source": []
  }
 ],
 "metadata": {
  "kernelspec": {
   "display_name": "Python 3",
   "language": "python",
   "name": "python3"
  },
  "language_info": {
   "codemirror_mode": {
    "name": "ipython",
    "version": 3
   },
   "file_extension": ".py",
   "mimetype": "text/x-python",
   "name": "python",
   "nbconvert_exporter": "python",
   "pygments_lexer": "ipython3",
   "version": "3.6.3"
  }
 },
 "nbformat": 4,
 "nbformat_minor": 2
}
