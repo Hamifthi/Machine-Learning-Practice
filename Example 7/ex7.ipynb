{
 "cells": [
  {
   "cell_type": "code",
   "execution_count": 1,
   "metadata": {},
   "outputs": [],
   "source": [
    "import scipy as sc\n",
    "import numpy as np\n",
    "import matplotlib.pyplot as plt\n",
    "import seaborn as sns\n",
    "import warnings\n",
    "from scipy.io import loadmat\n",
    "from sklearn import svm\n",
    "%matplotlib inline\n",
    "sns.set()\n",
    "sns.set_style('white')"
   ]
  },
  {
   "cell_type": "code",
   "execution_count": 2,
   "metadata": {},
   "outputs": [],
   "source": [
    "data1 = loadmat('ex7data2.mat')\n",
    "x = data1['X']\n",
    "k = np.array([[3, 3], [6, 2], [8, 5]])"
   ]
  },
  {
   "cell_type": "code",
   "execution_count": 3,
   "metadata": {},
   "outputs": [],
   "source": [
    "def distance(data1, data2):\n",
    "    return np.power(np.sum(np.power(data1 - data2, 2)), 1 / 2)"
   ]
  },
  {
   "cell_type": "code",
   "execution_count": 22,
   "metadata": {
    "scrolled": true
   },
   "outputs": [],
   "source": [
    "def findingClosestCentroids (x, centroids):\n",
    "    Ci = []\n",
    "    for number1 in range(len(x)):\n",
    "        distances = []\n",
    "        for number2 in range(len(centroids)):\n",
    "            distances.append(distance(x[number1], centroids[number2]))\n",
    "        Ci.append(np.argmin(distances) + 1)\n",
    "    return np.array(Ci), np.c_[x, Ci]"
   ]
  },
  {
   "cell_type": "code",
   "execution_count": 44,
   "metadata": {},
   "outputs": [],
   "source": [
    "def computingCentroidMeans (XCi, k):\n",
    "    seperateArray = []\n",
    "    Mu = []\n",
    "    for number in range(k):\n",
    "        seperateArray.append(XCi[np.ix_(XCi[:, XCi.shape[1] - 1] == number + 1, np.array([True, True, False]))])\n",
    "    seperateArray = np.array(seperateArray)\n",
    "    for number in seperateArray:\n",
    "        Mu.append(sum(number) / len(number))\n",
    "    return Mu"
   ]
  },
  {
   "cell_type": "code",
   "execution_count": 45,
   "metadata": {},
   "outputs": [
    {
     "data": {
      "text/plain": [
       "[array([ 2.42830111,  3.15792418]),\n",
       " array([ 5.81350331,  2.63365645]),\n",
       " array([ 7.11938687,  3.6166844 ])]"
      ]
     },
     "execution_count": 45,
     "metadata": {},
     "output_type": "execute_result"
    }
   ],
   "source": [
    "computingCentroidMeans(findingClosestCentroids(x, k)[1], 3)"
   ]
  },
  {
   "cell_type": "code",
   "execution_count": null,
   "metadata": {},
   "outputs": [],
   "source": []
  }
 ],
 "metadata": {
  "kernelspec": {
   "display_name": "Python 3",
   "language": "python",
   "name": "python3"
  },
  "language_info": {
   "codemirror_mode": {
    "name": "ipython",
    "version": 3
   },
   "file_extension": ".py",
   "mimetype": "text/x-python",
   "name": "python",
   "nbconvert_exporter": "python",
   "pygments_lexer": "ipython3",
   "version": "3.6.3"
  }
 },
 "nbformat": 4,
 "nbformat_minor": 2
}
