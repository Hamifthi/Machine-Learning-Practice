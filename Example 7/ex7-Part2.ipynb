{
 "cells": [
  {
   "cell_type": "code",
   "execution_count": 7,
   "metadata": {},
   "outputs": [],
   "source": [
    "import scipy as sc\n",
    "import numpy as np\n",
    "import matplotlib.pyplot as plt\n",
    "import seaborn as sns\n",
    "import warnings\n",
    "from scipy.io import loadmat\n",
    "from sklearn import preprocessing\n",
    "%matplotlib inline\n",
    "sns.set()\n",
    "sns.set_style('white')"
   ]
  },
  {
   "cell_type": "code",
   "execution_count": 17,
   "metadata": {},
   "outputs": [
    {
     "data": {
      "text/plain": [
       "(50, 2)"
      ]
     },
     "execution_count": 17,
     "metadata": {},
     "output_type": "execute_result"
    },
    {
     "data": {
      "image/png": "[encoded data removed]",
      "text/plain": [
       "<matplotlib.figure.Figure at 0x21b9746ab00>"
      ]
     },
     "metadata": {},
     "output_type": "display_data"
    }
   ],
   "source": [
    "data1 = loadmat('ex7data1.mat')\n",
    "X = data1['X']\n",
    "plt.figure(figsize = (7, 5))\n",
    "plt.plot(X[:, 0], X[:, 1], 'o', color = 'b', alpha=0.75)\n",
    "plt.grid(True)"
   ]
  },
  {
   "cell_type": "code",
   "execution_count": 73,
   "metadata": {},
   "outputs": [],
   "source": [
    "def normalizer (x):\n",
    "    return preprocessing.scale(x)"
   ]
  },
  {
   "cell_type": "code",
   "execution_count": 74,
   "metadata": {},
   "outputs": [],
   "source": [
    "def covariance (x):\n",
    "    return np.cov(x)"
   ]
  },
  {
   "cell_type": "code",
   "execution_count": 75,
   "metadata": {},
   "outputs": [],
   "source": [
    "def SVD (x):\n",
    "    return sc.linalg.svd(x)"
   ]
  },
  {
   "cell_type": "code",
   "execution_count": 148,
   "metadata": {},
   "outputs": [
    {
     "data": {
      "text/plain": [
       "array([[-0.70710678, -0.70710678],\n",
       "       [-0.70710678,  0.70710678]])"
      ]
     },
     "execution_count": 148,
     "metadata": {},
     "output_type": "execute_result"
    }
   ],
   "source": [
    "normalX = normalizer(X)\n",
    "covarianceX = covariance(normalX.T)\n",
    "U, S, V = SVD(covarianceX)"
   ]
  },
  {
   "cell_type": "code",
   "execution_count": 141,
   "metadata": {},
   "outputs": [],
   "source": [
    "mean = np.mean(X, axis = 0)"
   ]
  },
  {
   "cell_type": "code",
   "execution_count": 142,
   "metadata": {},
   "outputs": [
    {
     "data": {
      "text/plain": [
       "[<matplotlib.lines.Line2D at 0x21b99d033c8>]"
      ]
     },
     "execution_count": 142,
     "metadata": {},
     "output_type": "execute_result"
    },
    {
     "data": {
      "image/png": "[encoded data removed]",
      "text/plain": [
       "<matplotlib.figure.Figure at 0x21b99d03be0>"
      ]
     },
     "metadata": {},
     "output_type": "display_data"
    }
   ],
   "source": [
    "plt.figure(figsize = (7, 5))\n",
    "plt.plot(X[:, 0], X[:, 1], 'o', color = 'b', alpha=0.75)\n",
    "plt.grid(True)\n",
    "plt.plot([mean[0], mean[0] + 1.5 * S[0] * U[0, 0]], [mean[1], mean[1] + 1.5 * S[0] * U[0, 1]], color = 'k')\n",
    "plt.plot([mean[0], mean[0] + 1.5 * S[1] * U[1, 0]], [mean[1], mean[1] + 1.5 * S[1] * U[1, 1]], color = 'k')"
   ]
  },
  {
   "cell_type": "code",
   "execution_count": 153,
   "metadata": {},
   "outputs": [],
   "source": [
    "def projectData (x, u, k):\n",
    "    return np.dot(x, u[:, :k])"
   ]
  },
  {
   "cell_type": "code",
   "execution_count": 156,
   "metadata": {},
   "outputs": [
    {
     "data": {
      "text/plain": [
       "array([[ 1.49631261],\n",
       "       [-0.92218067],\n",
       "       [ 1.22439232],\n",
       "       [ 1.64386173],\n",
       "       [ 1.2732206 ],\n",
       "       [-0.97681976],\n",
       "       [ 1.26881187],\n",
       "       [-2.34148278],\n",
       "       [-0.02999141],\n",
       "       [-0.78171789],\n",
       "       [-0.6316777 ],\n",
       "       [-0.55280135],\n",
       "       [-0.0896816 ],\n",
       "       [-0.5258541 ],\n",
       "       [ 1.56415455],\n",
       "       [-1.91610366],\n",
       "       [-0.88679735],\n",
       "       [ 0.95607375],\n",
       "       [-2.32995679],\n",
       "       [-0.47793862],\n",
       "       [-2.21747195],\n",
       "       [ 0.38900633],\n",
       "       [-1.78482346],\n",
       "       [ 0.05175486],\n",
       "       [ 1.66512392],\n",
       "       [ 0.50813572],\n",
       "       [-1.23711018],\n",
       "       [-1.17198677],\n",
       "       [ 0.84221686],\n",
       "       [-0.00693174],\n",
       "       [-0.22794195],\n",
       "       [-1.51309518],\n",
       "       [ 1.33874082],\n",
       "       [-0.5925244 ],\n",
       "       [ 0.67907605],\n",
       "       [-1.35298   ],\n",
       "       [ 1.68749495],\n",
       "       [-1.39235931],\n",
       "       [ 2.55992598],\n",
       "       [-0.27850702],\n",
       "       [-0.97677692],\n",
       "       [ 0.88820006],\n",
       "       [ 1.29666127],\n",
       "       [-0.98966774],\n",
       "       [ 1.81272352],\n",
       "       [-0.27196356],\n",
       "       [ 3.19297722],\n",
       "       [ 1.21299151],\n",
       "       [ 0.36792871],\n",
       "       [-1.44264131]])"
      ]
     },
     "execution_count": 156,
     "metadata": {},
     "output_type": "execute_result"
    }
   ],
   "source": [
    "projectData(normalX, U, 1)"
   ]
  },
  {
   "cell_type": "code",
   "execution_count": null,
   "metadata": {},
   "outputs": [],
   "source": []
  }
 ],
 "metadata": {
  "kernelspec": {
   "display_name": "Python 3",
   "language": "python",
   "name": "python3"
  },
  "language_info": {
   "codemirror_mode": {
    "name": "ipython",
    "version": 3
   },
   "file_extension": ".py",
   "mimetype": "text/x-python",
   "name": "python",
   "nbconvert_exporter": "python",
   "pygments_lexer": "ipython3",
   "version": "3.6.3"
  }
 },
 "nbformat": 4,
 "nbformat_minor": 2
}
