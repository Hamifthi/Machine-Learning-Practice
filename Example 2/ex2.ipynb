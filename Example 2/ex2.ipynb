{
 "cells": [
  {
   "cell_type": "code",
   "execution_count": 3,
   "metadata": {},
   "outputs": [],
   "source": [
    "import pandas as pd\n",
    "import scipy as sc\n",
    "import numpy as np\n",
    "import matplotlib.pyplot as plt\n",
    "import seaborn as sns\n",
    "from math import exp\n",
    "%matplotlib inline\n",
    "sns.set()"
   ]
  },
  {
   "cell_type": "code",
   "execution_count": 33,
   "metadata": {},
   "outputs": [],
   "source": [
    "data1 = pd.read_csv('ex2data1.txt', header = None, names = ['exam1', 'exam2', 'y'])\n",
    "data1['ones'] = pd.Series(np.ones(100), dtype = int)\n",
    "data1 = data1[['ones', 'exam1', 'exam2', 'y']]\n",
    "X = np.matrix(data1.iloc[:, 0:3])\n",
    "y = np.matrix(data1.iloc[:, 3:])"
   ]
  },
  {
   "cell_type": "code",
   "execution_count": 59,
   "metadata": {},
   "outputs": [],
   "source": [
    "def plotData(data, label_x, label_y, label_pos, label_neg, axes=None):\n",
    "    # Get indexes for class 0 and class 1\n",
    "    neg = data.iloc[:, 3] == 0\n",
    "    pos = data.iloc[:, 3] == 1\n",
    "    \n",
    "    # If no specific axes object has been passed, get the current axes.\n",
    "    if axes == None:\n",
    "        axes = plt.gca()\n",
    "    axes.scatter(data[pos].iloc[:, 1], data[pos].iloc[:, 2], marker = '+', c = 'k', s = 50, linewidth = 2, label = label_pos)\n",
    "    axes.scatter(data[neg].iloc[:, 1], data[neg].iloc[:, 2], c = 'b', s = 50, label = label_neg)\n",
    "    plt.xlim(25, 110)\n",
    "    plt.ylim(25, 110)\n",
    "    axes.set_xlabel(label_x)\n",
    "    axes.set_ylabel(label_y)\n",
    "    axes.legend(frameon= True, fancybox = True);"
   ]
  },
  {
   "cell_type": "code",
   "execution_count": 60,
   "metadata": {},
   "outputs": [
    {
     "data": {
      "image/png": "[encoded data removed]",
      "text/plain": [
       "<matplotlib.figure.Figure at 0x1c71093c630>"
      ]
     },
     "metadata": {},
     "output_type": "display_data"
    }
   ],
   "source": [
    "plotData(data1, 'Exam 1 score', 'Exam 2 score', 'Admitted', 'Not admitted')"
   ]
  },
  {
   "cell_type": "code",
   "execution_count": 26,
   "metadata": {},
   "outputs": [],
   "source": [
    "def gFunction(z):\n",
    "    return sc.special.expit(z)"
   ]
  },
  {
   "cell_type": "code",
   "execution_count": 36,
   "metadata": {},
   "outputs": [],
   "source": [
    "def hFunction(X, theta):\n",
    "    theta = np.matrix(theta).T\n",
    "    h = np.matrix(gFunction(X.dot(theta)))\n",
    "    return h"
   ]
  },
  {
   "cell_type": "code",
   "execution_count": 54,
   "metadata": {},
   "outputs": [],
   "source": [
    "def costFunction(X, y, theta):\n",
    "    m = y.size\n",
    "    h = gFunction(X.dot(theta))\n",
    "    j = (-1 / m) * (np.log(h).dot(y) + np.log(1-h).dot(1-y))\n",
    "    if np.isnan(j):\n",
    "        return(np.inf)\n",
    "    return j"
   ]
  },
  {
   "cell_type": "code",
   "execution_count": 55,
   "metadata": {},
   "outputs": [
    {
     "data": {
      "text/plain": [
       "matrix([[ 0.69314718]])"
      ]
     },
     "execution_count": 55,
     "metadata": {},
     "output_type": "execute_result"
    }
   ],
   "source": [
    "costFunction(X, y, [0, 0, 0])"
   ]
  },
  {
   "cell_type": "code",
   "execution_count": 53,
   "metadata": {},
   "outputs": [],
   "source": [
    "def gradientDescent(X, y, theta):\n",
    "    m = y.size\n",
    "    cost = np.zeros(num_iters)\n",
    "    Ftheta = np.matrix(theta).T\n",
    "    \n",
    "    for iter in np.arange(num_iters):\n",
    "        h = hFunction(X, theta)\n",
    "        Ftheta = Ftheta - alpha * (X.T.dot(h - y))\n",
    "        cost[iter] = costFunction(X, y, theta)\n",
    "    \n",
    "    return(theta, cost)"
   ]
  },
  {
   "cell_type": "code",
   "execution_count": null,
   "metadata": {},
   "outputs": [],
   "source": []
  }
 ],
 "metadata": {
  "kernelspec": {
   "display_name": "Python 3",
   "language": "python",
   "name": "python3"
  },
  "language_info": {
   "codemirror_mode": {
    "name": "ipython",
    "version": 3
   },
   "file_extension": ".py",
   "mimetype": "text/x-python",
   "name": "python",
   "nbconvert_exporter": "python",
   "pygments_lexer": "ipython3",
   "version": "3.6.3"
  }
 },
 "nbformat": 4,
 "nbformat_minor": 2
}
