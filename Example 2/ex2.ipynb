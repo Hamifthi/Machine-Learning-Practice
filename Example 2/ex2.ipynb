{
 "cells": [
  {
   "cell_type": "code",
   "execution_count": 1,
   "metadata": {},
   "outputs": [],
   "source": [
    "import pandas as pd\n",
    "import scipy as sc\n",
    "import numpy as np\n",
    "import matplotlib.pyplot as plt\n",
    "import seaborn as sns\n",
    "from sklearn.preprocessing import PolynomialFeatures\n",
    "from math import exp\n",
    "%matplotlib inline\n",
    "sns.set()"
   ]
  },
  {
   "cell_type": "code",
   "execution_count": 2,
   "metadata": {},
   "outputs": [],
   "source": [
    "data1 = pd.read_csv('ex2data1.txt', header = None, names = ['exam1', 'exam2', 'y'])\n",
    "data1['ones'] = pd.Series(np.ones(100), dtype = int)\n",
    "data1 = data1[['ones', 'exam1', 'exam2', 'y']]\n",
    "X = np.array(data1.iloc[:, 0:3])\n",
    "y = np.array(data1.iloc[:, 3:])"
   ]
  },
  {
   "cell_type": "code",
   "execution_count": 21,
   "metadata": {},
   "outputs": [],
   "source": [
    "def plotData(data, position1, position2, label_x, label_y, label_pos, label_neg):\n",
    "    # Get indexes for class 0 and class 1\n",
    "    neg = data.iloc[:, len(data.columns) - 1] == 0\n",
    "    pos = data.iloc[:, len(data.columns) - 1] == 1\n",
    "    \n",
    "    plt.scatter(data[pos].iloc[:, position1], data[pos].iloc[:, position2], marker = '+', c = 'k', s = 50, linewidth = 2, label = label_pos)\n",
    "    plt.scatter(data[neg].iloc[:, position1], data[neg].iloc[:, position2], c = 'r', s = 50, label = label_neg)\n",
    "    plt.xlabel(label_x)\n",
    "    plt.ylabel(label_y)\n",
    "    plt.legend(loc = 1, frameon= False);"
   ]
  },
  {
   "cell_type": "code",
   "execution_count": 22,
   "metadata": {},
   "outputs": [
    {
     "data": {
      "image/png": "[encoded data removed]",
      "text/plain": [
       "<matplotlib.figure.Figure at 0x188ffd4ab70>"
      ]
     },
     "metadata": {},
     "output_type": "display_data"
    }
   ],
   "source": [
    "plotData(data1, 1, 2, 'Exam 1 score', 'Exam 2 score', 'Admitted', 'Not admitted')"
   ]
  },
  {
   "cell_type": "code",
   "execution_count": 5,
   "metadata": {},
   "outputs": [],
   "source": [
    "def gFunction(z):\n",
    "    return 1 / (1 + np.exp(-z))"
   ]
  },
  {
   "cell_type": "code",
   "execution_count": 6,
   "metadata": {},
   "outputs": [],
   "source": [
    "def hFunction(theta, X):\n",
    "    theta = np.array(theta).T\n",
    "    h = np.array(gFunction(np.dot(X, theta)))\n",
    "    return h"
   ]
  },
  {
   "cell_type": "code",
   "execution_count": 7,
   "metadata": {},
   "outputs": [
    {
     "data": {
      "text/plain": [
       "array([ 0.69314718])"
      ]
     },
     "execution_count": 7,
     "metadata": {},
     "output_type": "execute_result"
    }
   ],
   "source": [
    "def costFunction(theta, X, y):\n",
    "    m = y.size\n",
    "    h = hFunction(theta, X)\n",
    "    j = (-1 / m) * (np.dot((np.log(h)).T, y) + np.dot((np.log(1-h)).T, (1-y)))\n",
    "    return j\n",
    "    \n",
    "costFunction([0, 0, 0], X, y)"
   ]
  },
  {
   "cell_type": "code",
   "execution_count": 8,
   "metadata": {},
   "outputs": [
    {
     "data": {
      "text/plain": [
       "array([ -0.1       , -12.00921659, -11.26284221])"
      ]
     },
     "execution_count": 8,
     "metadata": {},
     "output_type": "execute_result"
    }
   ],
   "source": [
    "def gradientDescent(theta, X, y):\n",
    "    m = y.size\n",
    "    h = hFunction(theta, X).reshape(100, 1)\n",
    "    gradient = (1 / m) * np.dot(X.T, (h - y))\n",
    "    return gradient.flatten()\n",
    "\n",
    "gradientDescent([0, 0, 0], X, y)"
   ]
  },
  {
   "cell_type": "code",
   "execution_count": 9,
   "metadata": {},
   "outputs": [
    {
     "name": "stdout",
     "output_type": "stream",
     "text": [
      "Cost: \n",
      " [ 0.69314718]\n",
      "Grad: \n",
      " [ -0.1        -12.00921659 -11.26284221]\n"
     ]
    }
   ],
   "source": [
    "initial_theta = np.zeros(X.shape[1])\n",
    "cost = costFunction(initial_theta, X, y)\n",
    "grad = gradientDescent(initial_theta, X, y)\n",
    "print('Cost: \\n', cost)\n",
    "print('Grad: \\n', grad)"
   ]
  },
  {
   "cell_type": "code",
   "execution_count": 10,
   "metadata": {},
   "outputs": [
    {
     "name": "stderr",
     "output_type": "stream",
     "text": [
      "c:\\users\\hamed\\appdata\\local\\programs\\python\\python36\\lib\\site-packages\\ipykernel_launcher.py:4: RuntimeWarning: divide by zero encountered in log\n",
      "  after removing the cwd from sys.path.\n"
     ]
    },
    {
     "data": {
      "text/plain": [
       "      fun: 0.2034977015894438\n",
       " hess_inv: array([[  3.31474479e+03,  -2.63892205e+01,  -2.70237122e+01],\n",
       "       [ -2.63892205e+01,   2.23869433e-01,   2.02682332e-01],\n",
       "       [ -2.70237122e+01,   2.02682332e-01,   2.35335117e-01]])\n",
       "      jac: array([ -9.52476822e-09,  -9.31921318e-07,  -2.82608930e-07])\n",
       "  message: 'Optimization terminated successfully.'\n",
       "     nfev: 31\n",
       "      nit: 23\n",
       "     njev: 31\n",
       "   status: 0\n",
       "  success: True\n",
       "        x: array([-25.16133284,   0.2062317 ,   0.2014716 ])"
      ]
     },
     "execution_count": 10,
     "metadata": {},
     "output_type": "execute_result"
    }
   ],
   "source": [
    "def optimizer(costFunction, theta, X, y, gradientDescent):\n",
    "    optimum = sc.optimize.minimize(costFunction, theta, args = (X, y), method = None, jac = gradientDescent, options={'maxiter' : 400})\n",
    "    return optimum\n",
    "\n",
    "optimum = optimizer(costFunction, initial_theta, X, y, gradientDescent)\n",
    "optimum"
   ]
  },
  {
   "cell_type": "markdown",
   "metadata": {},
   "source": [
    "def predict(theta, exam1, exam2):\n",
    "    x = np.array([1, exam1, exam2])\n",
    "    predict = hFunction(optimum.x, x)\n",
    "    print(1) if predict >= 0.5 else print(0)\n",
    "    return predict\n",
    "\n",
    "predict(optimum.x, 45, 85)"
   ]
  },
  {
   "cell_type": "code",
   "execution_count": 11,
   "metadata": {},
   "outputs": [],
   "source": [
    "def predict(theta, X, threshold=0.5):\n",
    "    p = gFunction(X.dot(theta.T)) >= threshold\n",
    "    return(p.astype('int'))"
   ]
  },
  {
   "cell_type": "code",
   "execution_count": 61,
   "metadata": {},
   "outputs": [
    {
     "data": {
      "text/plain": [
       "[<matplotlib.lines.Line2D at 0x1888da128d0>]"
      ]
     },
     "execution_count": 61,
     "metadata": {},
     "output_type": "execute_result"
    },
    {
     "data": {
      "image/png": "[encoded data removed]",
      "text/plain": [
       "<matplotlib.figure.Figure at 0x1888d68a9e8>"
      ]
     },
     "metadata": {},
     "output_type": "display_data"
    }
   ],
   "source": [
    "plotData(data1, 1, 2, 'Exam 1 score', 'Exam 2 score', 'Admitted', 'Not admitted')\n",
    "plt.scatter(45, 85, s=60, c='r', marker='v', label='(45, 85)')\n",
    "plt.plot([0, 124.888], [122.005, 0], label='line 1', linewidth = 1)"
   ]
  },
  {
   "cell_type": "code",
   "execution_count": 24,
   "metadata": {},
   "outputs": [],
   "source": [
    "data2 = pd.read_csv('ex2data2.txt', header = None, names = ['Microchip Test 1', 'Microchip Test 2', 'y'])\n",
    "y2 = np.array(data2.iloc[:, 2]).reshape(118, 1)\n",
    "X2 = np.array(data2.iloc[:, 0:2])"
   ]
  },
  {
   "cell_type": "code",
   "execution_count": 25,
   "metadata": {},
   "outputs": [
    {
     "data": {
      "image/png": "[encoded data removed]",
      "text/plain": [
       "<matplotlib.figure.Figure at 0x188ffe0c710>"
      ]
     },
     "metadata": {},
     "output_type": "display_data"
    }
   ],
   "source": [
    "plotData(data2, 0, 1, 'Microchip Test 1', 'Microchip Test 2', 'y = 1', 'y = 0')"
   ]
  },
  {
   "cell_type": "code",
   "execution_count": 26,
   "metadata": {},
   "outputs": [
    {
     "data": {
      "text/plain": [
       "(118, 28)"
      ]
     },
     "execution_count": 26,
     "metadata": {},
     "output_type": "execute_result"
    }
   ],
   "source": [
    "poly = PolynomialFeatures(6)\n",
    "XX = poly.fit_transform(data2.iloc[:, 0:2])\n",
    "XX.shape"
   ]
  },
  {
   "cell_type": "code",
   "execution_count": 27,
   "metadata": {},
   "outputs": [],
   "source": [
    "def regularizedCostFunction(theta, X, y, λ = 1):\n",
    "    m = y.size\n",
    "    h = hFunction(theta, X).reshape(-1, 1)\n",
    "    j = ((-1 / m) * (np.dot((np.log(h)).T, y) + np.dot((np.log(1-h)).T, (1-y)))) + (λ / (2 *  m)) * np.sum(np.square(theta[1:]))\n",
    "    return j"
   ]
  },
  {
   "cell_type": "code",
   "execution_count": 28,
   "metadata": {},
   "outputs": [],
   "source": [
    "def regularizedGradientDescent(theta, X, y, λ = 1):\n",
    "    m = y.size\n",
    "    h = hFunction(theta, X).reshape(118, 1)\n",
    "    theta[0] = 0\n",
    "    gradient = (1 / m) * np.dot(X.T, (h - y)) + (λ / m * theta).reshape(-1, 1)\n",
    "    return gradient.flatten()"
   ]
  },
  {
   "cell_type": "code",
   "execution_count": 110,
   "metadata": {},
   "outputs": [],
   "source": [
    "#initial_theta2 = np.zeros(XX.shape[1])\n",
    "#print(costFunctionReg(initial_theta2, XX, y2))\n",
    "#print(gradientReg(initial_theta2, XX, y2))\n",
    "#print(sc.optimize.minimize(regularizedCostFunction, initial_theta2, args = (XX, y2), method = None, jac = regularizedGradientDescent, options = {'maxiter':3000}))"
   ]
  }
 ],
 "metadata": {
  "kernelspec": {
   "display_name": "Python 3",
   "language": "python",
   "name": "python3"
  },
  "language_info": {
   "codemirror_mode": {
    "name": "ipython",
    "version": 3
   },
   "file_extension": ".py",
   "mimetype": "text/x-python",
   "name": "python",
   "nbconvert_exporter": "python",
   "pygments_lexer": "ipython3",
   "version": "3.6.3"
  }
 },
 "nbformat": 4,
 "nbformat_minor": 2
}
