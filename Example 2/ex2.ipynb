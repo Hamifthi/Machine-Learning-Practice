{
 "cells": [
  {
   "cell_type": "code",
   "execution_count": 40,
   "metadata": {},
   "outputs": [],
   "source": [
    "import pandas as pd\n",
    "import scipy as sc\n",
    "import numpy as np\n",
    "import matplotlib.pyplot as plt\n",
    "import seaborn as sns\n",
    "from sklearn.preprocessing import PolynomialFeatures\n",
    "from math import exp\n",
    "%matplotlib inline\n",
    "sns.set()"
   ]
  },
  {
   "cell_type": "code",
   "execution_count": 41,
   "metadata": {},
   "outputs": [],
   "source": [
    "data1 = pd.read_csv('ex2data1.txt', header = None, names = ['exam1', 'exam2', 'y'])\n",
    "data1['ones'] = pd.Series(np.ones(100), dtype = int)\n",
    "data1 = data1[['ones', 'exam1', 'exam2', 'y']]\n",
    "X = np.array(data1.iloc[:, 0:3])\n",
    "y = np.array(data1.iloc[:, 3:])"
   ]
  },
  {
   "cell_type": "code",
   "execution_count": 48,
   "metadata": {},
   "outputs": [],
   "source": [
    "def plotData(data, label_x, label_y, label_pos, label_neg):\n",
    "    # Get indexes for class 0 and class 1\n",
    "    neg = data.iloc[:, 3] == 0\n",
    "    pos = data.iloc[:, 3] == 1\n",
    "    \n",
    "    plt.axis([20, 110, 20, 110,])\n",
    "    plt.scatter(data[pos].iloc[:, 1], data[pos].iloc[:, 2], marker = '+', c = 'k', s = 50, linewidth = 2, label = label_pos)\n",
    "    plt.scatter(data[neg].iloc[:, 1], data[neg].iloc[:, 2], c = 'r', s = 50, label = label_neg)\n",
    "    plt.xlabel(label_x)\n",
    "    plt.ylabel(label_y)\n",
    "    plt.legend(frameon= False, fancybox = True);"
   ]
  },
  {
   "cell_type": "code",
   "execution_count": 49,
   "metadata": {},
   "outputs": [
    {
     "data": {
      "image/png": "[encoded data removed]",
      "text/plain": [
       "<matplotlib.figure.Figure at 0x24f15f2a438>"
      ]
     },
     "metadata": {},
     "output_type": "display_data"
    }
   ],
   "source": [
    "plotData(data1, 'Exam 1 score', 'Exam 2 score', 'Admitted', 'Not admitted')"
   ]
  },
  {
   "cell_type": "code",
   "execution_count": 7,
   "metadata": {},
   "outputs": [],
   "source": [
    "def gFunction(z):\n",
    "    try:\n",
    "        return 1 / (1 + np.exp(-z))\n",
    "    except ZeroDivisionError:\n",
    "        return 0"
   ]
  },
  {
   "cell_type": "code",
   "execution_count": 8,
   "metadata": {},
   "outputs": [],
   "source": [
    "def hFunction(theta, X):\n",
    "    theta = np.array(theta).T\n",
    "    h = np.array(gFunction(np.dot(X, theta)))\n",
    "    return h"
   ]
  },
  {
   "cell_type": "code",
   "execution_count": 9,
   "metadata": {},
   "outputs": [
    {
     "data": {
      "text/plain": [
       "array([ 0.69314718])"
      ]
     },
     "execution_count": 9,
     "metadata": {},
     "output_type": "execute_result"
    }
   ],
   "source": [
    "def costFunction(theta, X, y):\n",
    "    m = y.size\n",
    "    h = hFunction(theta, X)\n",
    "    j = (-1 / m) * (np.dot((np.log(h)).T, y) + np.dot((np.log(1-h)).T, (1-y)))\n",
    "    return j\n",
    "    \n",
    "costFunction([0, 0, 0], X, y)"
   ]
  },
  {
   "cell_type": "code",
   "execution_count": 10,
   "metadata": {},
   "outputs": [
    {
     "data": {
      "text/plain": [
       "array([ -0.1       , -12.00921659, -11.26284221])"
      ]
     },
     "execution_count": 10,
     "metadata": {},
     "output_type": "execute_result"
    }
   ],
   "source": [
    "def gradientDescent(theta, X, y):\n",
    "    m = y.size\n",
    "    h = hFunction(theta, X).reshape(100, 1)\n",
    "    gradient = (1 / m) * np.dot(X.T, (h - y))\n",
    "    return gradient.flatten()\n",
    "\n",
    "gradientDescent([0, 0, 0], X, y)"
   ]
  },
  {
   "cell_type": "code",
   "execution_count": 11,
   "metadata": {},
   "outputs": [
    {
     "name": "stdout",
     "output_type": "stream",
     "text": [
      "Cost: \n",
      " [ 0.69314718]\n",
      "Grad: \n",
      " [ -0.1        -12.00921659 -11.26284221]\n"
     ]
    }
   ],
   "source": [
    "initial_theta = np.zeros(X.shape[1])\n",
    "cost = costFunction(initial_theta, X, y)\n",
    "grad = gradientDescent(initial_theta, X, y)\n",
    "print('Cost: \\n', cost)\n",
    "print('Grad: \\n', grad)"
   ]
  },
  {
   "cell_type": "code",
   "execution_count": 12,
   "metadata": {},
   "outputs": [
    {
     "name": "stderr",
     "output_type": "stream",
     "text": [
      "c:\\users\\hamed\\appdata\\local\\programs\\python\\python36\\lib\\site-packages\\ipykernel_launcher.py:4: RuntimeWarning: divide by zero encountered in log\n",
      "  after removing the cwd from sys.path.\n"
     ]
    },
    {
     "data": {
      "text/plain": [
       "      fun: 0.2034977015894438\n",
       " hess_inv: array([[  3.31474479e+03,  -2.63892205e+01,  -2.70237122e+01],\n",
       "       [ -2.63892205e+01,   2.23869433e-01,   2.02682332e-01],\n",
       "       [ -2.70237122e+01,   2.02682332e-01,   2.35335117e-01]])\n",
       "      jac: array([ -9.52476822e-09,  -9.31921318e-07,  -2.82608930e-07])\n",
       "  message: 'Optimization terminated successfully.'\n",
       "     nfev: 31\n",
       "      nit: 23\n",
       "     njev: 31\n",
       "   status: 0\n",
       "  success: True\n",
       "        x: array([-25.16133284,   0.2062317 ,   0.2014716 ])"
      ]
     },
     "execution_count": 12,
     "metadata": {},
     "output_type": "execute_result"
    }
   ],
   "source": [
    "def optimizer(costFunction, theta, X, y, gradientDescent):\n",
    "    optimum = sc.optimize.minimize(costFunction, theta, args = (X, y), method = None, jac = gradientDescent, options={'maxiter' : 400})\n",
    "    return optimum\n",
    "\n",
    "optimizer(costFunction, initial_theta, X, y, gradientDescent)"
   ]
  },
  {
   "cell_type": "markdown",
   "metadata": {},
   "source": [
    "def predict(theta, exam1, exam2):\n",
    "    x = np.array([1, exam1, exam2])\n",
    "    predict = hFunction(optimum.x, x)\n",
    "    print(1) if predict >= 0.5 else print(0)\n",
    "    return predict\n",
    "\n",
    "predict(optimum.x, 45, 85)"
   ]
  },
  {
   "cell_type": "code",
   "execution_count": 120,
   "metadata": {},
   "outputs": [],
   "source": [
    "def predict(theta, X, threshold=0.5):\n",
    "    p = gFunction(X.dot(theta.T)) >= threshold\n",
    "    return(p.astype('int'))"
   ]
  },
  {
   "cell_type": "code",
   "execution_count": 76,
   "metadata": {},
   "outputs": [
    {
     "data": {
      "text/plain": [
       "<matplotlib.contour.QuadContourSet at 0x1b7e9858b70>"
      ]
     },
     "execution_count": 76,
     "metadata": {},
     "output_type": "execute_result"
    },
    {
     "data": {
      "image/png": "[encoded data removed]",
      "text/plain": [
       "<matplotlib.figure.Figure at 0x1b7ea8e3c50>"
      ]
     },
     "metadata": {},
     "output_type": "display_data"
    }
   ],
   "source": [
    "plt.scatter(45, 85, s=60, c='r', marker='v', label='(45, 85)')\n",
    "plotData(data1, 'Exam 1 score', 'Exam 2 score', 'Admitted', 'Not admitted')\n",
    "x1_min, x1_max = X[:,1].min(), X[:,1].max(),\n",
    "x2_min, x2_max = X[:,2].min(), X[:,2].max(),\n",
    "xx1, xx2 = np.meshgrid(np.linspace(x1_min, x1_max), np.linspace(x2_min, x2_max))\n",
    "h = gFunction(np.c_[np.ones((xx1.ravel().shape[0],1)), xx1.ravel(), xx2.ravel()].dot(optimum.x))\n",
    "h = h.reshape(xx1.shape)\n",
    "plt.contour(xx1, xx2, h, [0.5], linewidths=1, colors='b')"
   ]
  },
  {
   "cell_type": "code",
   "execution_count": 77,
   "metadata": {},
   "outputs": [],
   "source": [
    "data2 = pd.read_csv('ex2data2.txt', header = None, names = ['Microchip Test 1', 'Microchip Test 2', 'y'])\n",
    "y2 = np.array(data2.iloc[:, 2]).reshape(118, 1)\n",
    "X2 = np.array(data2.iloc[:, 0:2])"
   ]
  },
  {
   "cell_type": "code",
   "execution_count": 78,
   "metadata": {},
   "outputs": [],
   "source": [
    "def plotData2(data, label_x, label_y, label_pos, label_neg, axes = None):\n",
    "    neg = data.iloc[:, 2] == 0\n",
    "    pos = data.iloc[:, 2] == 1\n",
    "    \n",
    "    # If no specific axes object has been passed, get the current axes.\n",
    "    if axes == None:\n",
    "        axes = plt.gca()\n",
    "    axes.scatter(data[pos].iloc[:, 0], data[pos].iloc[:, 1], marker = '+', c = 'k', s = 50, linewidth = 2, label = label_pos)\n",
    "    axes.scatter(data[neg].iloc[:, 0], data[neg].iloc[:, 1], c = 'r', s = 50, label = label_neg)\n",
    "    plt.xlim = (-1, 1.5)\n",
    "    plt.ylim = (-0.8, 1.2)\n",
    "    axes.set_xlabel(label_x)\n",
    "    axes.set_ylabel(label_y)\n",
    "    axes.legend(frameon= True, fancybox = True);"
   ]
  },
  {
   "cell_type": "code",
   "execution_count": 79,
   "metadata": {},
   "outputs": [
    {
     "data": {
      "image/png": "[encoded data removed]",
      "text/plain": [
       "<matplotlib.figure.Figure at 0x1b7ea8e3470>"
      ]
     },
     "metadata": {},
     "output_type": "display_data"
    }
   ],
   "source": [
    "plotData2(data2, 'Microchip Test 1', 'Microchip Test 2', 'y = 1', 'y = 0', axes = None)"
   ]
  },
  {
   "cell_type": "code",
   "execution_count": 80,
   "metadata": {},
   "outputs": [
    {
     "data": {
      "text/plain": [
       "(118, 28)"
      ]
     },
     "execution_count": 80,
     "metadata": {},
     "output_type": "execute_result"
    }
   ],
   "source": [
    "poly = PolynomialFeatures(6)\n",
    "XX = poly.fit_transform(data2.iloc[:, 0:2])\n",
    "XX.shape"
   ]
  },
  {
   "cell_type": "code",
   "execution_count": 122,
   "metadata": {},
   "outputs": [],
   "source": [
    "def regularizedCostFunction(theta, X, y, λ = 1):\n",
    "    m = y.size\n",
    "    h = hFunction(theta, X).reshape(-1, 1)\n",
    "    j = ((-1 / m) * (np.dot((np.log(h)).T, y) + np.dot((np.log(1-h)).T, (1-y)))) + (λ / (2 *  m)) * np.sum(np.square(theta[1:]))\n",
    "    return j"
   ]
  },
  {
   "cell_type": "code",
   "execution_count": 123,
   "metadata": {},
   "outputs": [],
   "source": [
    "def regularizedGradientDescent(theta, X, y, λ = 1):\n",
    "    m = y.size\n",
    "    h = hFunction(theta, X).reshape(118, 1)\n",
    "    theta[0] = 0\n",
    "    gradient = (1 / m) * np.dot(X.T, (h - y)) + (λ / m * theta).reshape(-1, 1)\n",
    "    return gradient.flatten()"
   ]
  },
  {
   "cell_type": "code",
   "execution_count": 125,
   "metadata": {},
   "outputs": [
    {
     "name": "stdout",
     "output_type": "stream",
     "text": [
      "      fun: 0.5290027422869217\n",
      " hess_inv: array([[  1.07914459e+01,   1.00370134e+00,   1.21057597e+00,\n",
      "         -8.74612304e+00,  -2.24476234e+00,  -1.30928770e+01,\n",
      "          7.84297773e-01,  -1.64458964e+00,  -2.48377276e-01,\n",
      "         -6.52804934e-01,  -4.71782992e+00,   2.58090129e+00,\n",
      "         -4.03086221e+00,   1.03695104e-01,  -5.05427604e+00,\n",
      "         -6.82360128e-02,  -2.45505444e-02,   8.83292432e-01,\n",
      "         -1.68341536e+00,  -5.50856476e-01,   2.14265744e+00,\n",
      "         -2.31021183e+00,   2.03047279e+00,  -1.59242276e+00,\n",
      "          1.32651853e+00,  -1.98877507e+00,   2.80730511e-01,\n",
      "          5.99591174e-01],\n",
      "       [  1.00370134e+00,   1.28889754e+01,   4.31839874e+00,\n",
      "         -6.95995281e+00,  -7.08201337e+00,  -3.92029220e-03,\n",
      "          1.69141341e+00,   7.17737681e-01,   2.99492672e+00,\n",
      "         -3.00897829e+00,  -3.78374906e+00,  -2.07471726e-01,\n",
      "          9.68383482e-01,  -1.53929603e+00,  -7.57663155e-01,\n",
      "         -5.27877013e-01,   5.65484974e-01,   1.54975987e+00,\n",
      "         -4.69577010e-01,   1.16892770e+00,  -2.13286531e+00,\n",
      "         -2.19538460e+00,   4.55052572e-01,   4.07717340e-01,\n",
      "          3.65861707e-01,   3.50581307e-01,  -2.11935360e-01,\n",
      "         -3.00465771e-01],\n",
      "       [  1.21057597e+00,   4.31839874e+00,   1.78598784e+01,\n",
      "         -3.46271504e+00,  -7.87284696e+00,  -4.52935050e+00,\n",
      "         -7.25919022e-01,   3.97179185e+00,   4.18900391e-01,\n",
      "         -2.98088714e+00,  -1.86202922e+00,  -6.55618462e-01,\n",
      "          1.58077028e+00,  -1.74101660e+00,  -6.56885414e+00,\n",
      "         -1.49400632e+00,   1.74794214e+00,   8.03370799e-01,\n",
      "          3.72736906e-01,   1.54047791e-01,  -6.07269327e+00,\n",
      "         -1.20593395e+00,   2.09337880e-01,   7.73311459e-01,\n",
      "          2.22626841e-01,   3.14449900e-01,  -2.35552776e-01,\n",
      "         -6.68691610e+00],\n",
      "       [ -8.74612304e+00,  -6.95995281e+00,  -3.46271504e+00,\n",
      "          2.21859815e+01,   9.71595621e+00,   1.21717823e+01,\n",
      "          2.15536131e+00,   5.52638055e-01,  -3.80048304e+00,\n",
      "          2.93565935e+00,   1.13586275e+01,  -3.74352450e+00,\n",
      "          3.18516360e+00,   1.26171238e+00,   2.16359443e+00,\n",
      "          3.65446576e+00,  -1.25831337e+00,  -2.96367746e+00,\n",
      "          2.19602361e+00,  -1.34696950e+00,  -3.54344678e+00,\n",
      "          6.04967982e+00,  -3.52152696e+00,   1.26813915e+00,\n",
      "         -2.34174097e+00,   1.43642153e+00,  -3.42475106e-01,\n",
      "         -5.61563110e+00],\n",
      "       [ -2.24476234e+00,  -7.08201337e+00,  -7.87284696e+00,\n",
      "          9.71595621e+00,   3.81871026e+01,   1.06043607e+01,\n",
      "          3.21376789e+00,  -4.24610540e+00,  -2.61233667e+00,\n",
      "          1.03101955e+01,  -2.66911429e-01,   2.34700319e+00,\n",
      "         -4.79499423e+00,   1.06772126e+01,   4.40084624e-01,\n",
      "          2.07780808e+00,  -3.97182158e+00,  -4.32934574e+00,\n",
      "          1.12896396e+00,  -3.10309574e-01,  -2.91924120e-01,\n",
      "         -3.83208179e+00,  -1.77058716e+00,  -2.71456726e+00,\n",
      "         -8.38183392e-01,  -2.06302638e+00,   3.47924973e+00,\n",
      "         -8.72117040e+00],\n",
      "       [ -1.30928770e+01,  -3.92029220e-03,  -4.52935050e+00,\n",
      "          1.21717823e+01,   1.06043607e+01,   4.44930473e+01,\n",
      "         -4.35470017e+00,   6.92893453e-02,  -8.25292874e-01,\n",
      "         -3.89876280e-01,  -1.02314427e+00,  -9.54212905e+00,\n",
      "          7.81083945e+00,   4.79149392e-01,   8.66382825e+00,\n",
      "         -5.27412328e+00,  -3.49966558e+00,  -4.74146006e+00,\n",
      "          3.36431042e+00,   6.05776644e-01,  -1.54393675e+01,\n",
      "         -6.62696896e+00,  -7.97314791e+00,   2.13104189e+00,\n",
      "         -5.02702438e+00,   3.68109544e+00,  -1.00599798e+00,\n",
      "         -1.43876136e+01],\n",
      "       [  7.84297773e-01,   1.69141341e+00,  -7.25919022e-01,\n",
      "          2.15536131e+00,   3.21376789e+00,  -4.35470017e+00,\n",
      "          1.02054953e+01,  -7.35083739e+00,  -8.94383635e+00,\n",
      "          8.22619572e+00,  -5.05227112e-01,  -3.01594462e+00,\n",
      "         -5.95283882e+00,  -1.38030140e+00,  -3.05464824e+00,\n",
      "          6.50559755e+00,  -4.89859416e+00,  -3.49591171e+00,\n",
      "         -1.48994338e+00,  -5.79943941e+00,   3.60921304e+00,\n",
      "         -1.10917360e+00,  -2.52349093e+00,  -2.82199781e+00,\n",
      "         -1.96016152e+00,  -2.70891960e+00,  -2.39762128e+00,\n",
      "         -3.81425115e+00],\n",
      "       [ -1.64458964e+00,   7.17737681e-01,   3.97179185e+00,\n",
      "          5.52638055e-01,  -4.24610540e+00,   6.92893453e-02,\n",
      "         -7.35083739e+00,   9.95193683e+00,   9.83772765e+00,\n",
      "         -8.37272996e+00,   3.83225726e+00,   4.08040414e+00,\n",
      "          6.53037181e+00,   1.55689939e+00,   2.02435680e+00,\n",
      "         -4.58206587e+00,   6.03560450e+00,   4.39133849e+00,\n",
      "          1.71085542e+00,   6.25594117e+00,  -2.59504663e+00,\n",
      "          4.27069760e+00,   3.42834104e+00,   3.32761050e+00,\n",
      "          2.56621551e+00,   2.90470142e+00,   2.77505660e+00,\n",
      "          4.99400261e+00],\n",
      "       [ -2.48377276e-01,   2.99492672e+00,   4.18900391e-01,\n",
      "         -3.80048304e+00,  -2.61233667e+00,  -8.25292874e-01,\n",
      "         -8.94383635e+00,   9.83772765e+00,   1.49798475e+01,\n",
      "         -9.86582465e+00,   2.13178731e+00,   6.89627390e+00,\n",
      "          6.71101058e+00,   3.21307773e+00,   4.29852788e+00,\n",
      "         -6.03280729e+00,   7.31332985e+00,   6.11402058e+00,\n",
      "          1.54421535e+00,   8.63227411e+00,  -3.83725753e-01,\n",
      "          3.81234105e+00,   5.32356319e+00,   3.50438122e+00,\n",
      "          3.92854677e+00,   3.11144491e+00,   4.15216404e+00,\n",
      "          9.63890497e+00],\n",
      "       [ -6.52804934e-01,  -3.00897829e+00,  -2.98088714e+00,\n",
      "          2.93565935e+00,   1.03101955e+01,  -3.89876280e-01,\n",
      "          8.22619572e+00,  -8.37272996e+00,  -9.86582465e+00,\n",
      "          1.28442893e+01,  -1.13892289e+00,  -2.50448796e+00,\n",
      "         -6.91256712e+00,   4.42541396e-01,  -3.73900818e-01,\n",
      "          6.06792581e+00,  -5.69462191e+00,  -4.48476598e+00,\n",
      "         -1.19113922e+00,  -6.06736312e+00,   5.93328701e+00,\n",
      "         -2.16272803e+00,  -2.80579027e+00,  -3.41028812e+00,\n",
      "         -2.14302620e+00,  -2.96159117e+00,  -1.94643596e+00,\n",
      "         -2.68741457e+00],\n",
      "       [ -4.71782992e+00,  -3.78374906e+00,  -1.86202922e+00,\n",
      "          1.13586275e+01,  -2.66911429e-01,  -1.02314427e+00,\n",
      "         -5.05227112e-01,   3.83225726e+00,   2.13178731e+00,\n",
      "         -1.13892289e+00,   1.11731644e+01,   1.30321563e+00,\n",
      "          3.50449234e+00,   4.97837614e-01,   2.86544325e+00,\n",
      "          2.12508039e+00,   2.61901381e+00,   1.35103603e+00,\n",
      "          1.31590048e+00,   1.62678089e+00,   2.45151848e+00,\n",
      "          8.38158015e+00,   1.10050948e+00,   1.99295022e+00,\n",
      "          7.16348958e-01,   1.66511271e+00,   7.74887372e-01,\n",
      "          5.28089235e+00],\n",
      "       [  2.58090129e+00,  -2.07471726e-01,  -6.55618462e-01,\n",
      "         -3.74352450e+00,   2.34700319e+00,  -9.54212905e+00,\n",
      "         -3.01594462e+00,   4.08040414e+00,   6.89627390e+00,\n",
      "         -2.50448796e+00,   1.30321563e+00,   7.56502669e+00,\n",
      "          4.74303910e-01,   3.32035723e+00,   1.08711561e+00,\n",
      "         -1.32429985e+00,   3.94019903e+00,   3.65107825e+00,\n",
      "          8.43584865e-02,   4.16609208e+00,   4.99372388e+00,\n",
      "          3.13606936e+00,   4.60427137e+00,   7.27058928e-01,\n",
      "          3.22290865e+00,   2.99331499e-01,   2.93329807e+00,\n",
      "          8.58685749e+00],\n",
      "       [ -4.03086221e+00,   9.68383482e-01,   1.58077028e+00,\n",
      "          3.18516360e+00,  -4.79499423e+00,   7.81083945e+00,\n",
      "         -5.95283882e+00,   6.53037181e+00,   6.71101058e+00,\n",
      "         -6.91256712e+00,   3.50449234e+00,   4.74303910e-01,\n",
      "          7.74484531e+00,  -8.00042091e-02,   3.44050246e+00,\n",
      "         -3.96254539e+00,   3.83385385e+00,   2.47783262e+00,\n",
      "          1.78114429e+00,   4.36996273e+00,  -4.57767551e+00,\n",
      "          2.80128693e+00,   8.40645007e-01,   3.10873865e+00,\n",
      "          7.58432136e-01,   3.04980232e+00,   1.24808467e+00,\n",
      "          1.87460209e+00],\n",
      "       [  1.03695104e-01,  -1.53929603e+00,  -1.74101660e+00,\n",
      "          1.26171238e+00,   1.06772126e+01,   4.79149392e-01,\n",
      "         -1.38030140e+00,   1.55689939e+00,   3.21307773e+00,\n",
      "          4.42541396e-01,   4.97837614e-01,   3.32035723e+00,\n",
      "         -8.00042091e-02,   5.38122326e+00,   6.09198765e-01,\n",
      "         -8.49533161e-01,   1.06435096e+00,   6.30377576e-01,\n",
      "          6.25971863e-01,   2.35449414e+00,   4.76291339e-01,\n",
      "          1.58897356e-01,   1.43537184e+00,   3.85307742e-03,\n",
      "          1.16548096e+00,  -3.13466140e-03,   2.40598871e+00,\n",
      "          4.96693826e-01],\n",
      "       [ -5.05427604e+00,  -7.57663155e-01,  -6.56885414e+00,\n",
      "          2.16359443e+00,   4.40084624e-01,   8.66382825e+00,\n",
      "         -3.05464824e+00,   2.02435680e+00,   4.29852788e+00,\n",
      "         -3.73900818e-01,   2.86544325e+00,   1.08711561e+00,\n",
      "          3.44050246e+00,   6.09198765e-01,   9.70508238e+00,\n",
      "         -1.38297072e+00,   1.64583175e+00,   1.46305016e+00,\n",
      "          9.80495643e-01,   2.66991287e+00,   3.82600507e+00,\n",
      "          2.63561521e+00,   8.16765989e-01,   1.56183224e+00,\n",
      "          5.63846102e-01,   1.95094845e+00,   7.52003366e-01,\n",
      "          8.68146086e+00],\n",
      "       [ -6.82360128e-02,  -5.27877013e-01,  -1.49400632e+00,\n",
      "          3.65446576e+00,   2.07780808e+00,  -5.27412328e+00,\n",
      "          6.50559755e+00,  -4.58206587e+00,  -6.03280729e+00,\n",
      "          6.06792581e+00,   2.12508039e+00,  -1.32429985e+00,\n",
      "         -3.96254539e+00,  -8.49533161e-01,  -1.38297072e+00,\n",
      "          6.40535936e+00,  -2.80423376e+00,  -2.02856682e+00,\n",
      "         -9.37456669e-01,  -3.88726765e+00,   4.58565790e+00,\n",
      "          1.55582709e+00,  -1.14243201e+00,  -1.72352277e+00,\n",
      "         -9.94035673e-01,  -1.75473636e+00,  -1.51208637e+00,\n",
      "         -1.06726423e-01],\n",
      "       [ -2.45505444e-02,   5.65484974e-01,   1.74794214e+00,\n",
      "         -1.25831337e+00,  -3.97182158e+00,  -3.49966558e+00,\n",
      "         -4.89859416e+00,   6.03560450e+00,   7.31332985e+00,\n",
      "         -5.69462191e+00,   2.61901381e+00,   3.94019903e+00,\n",
      "          3.83385385e+00,   1.06435096e+00,   1.64583175e+00,\n",
      "         -2.80423376e+00,   5.55036476e+00,   3.66253084e+00,\n",
      "          8.21967977e-01,   4.49220530e+00,   5.10740304e-01,\n",
      "          3.61232832e+00,   3.28870391e+00,   2.12614550e+00,\n",
      "          2.35190188e+00,   1.74468033e+00,   2.06003172e+00,\n",
      "          6.17783267e+00],\n",
      "       [  8.83292432e-01,   1.54975987e+00,   8.03370799e-01,\n",
      "         -2.96367746e+00,  -4.32934574e+00,  -4.74146006e+00,\n",
      "         -3.49591171e+00,   4.39133849e+00,   6.11402058e+00,\n",
      "         -4.48476598e+00,   1.35103603e+00,   3.65107825e+00,\n",
      "          2.47783262e+00,   6.30377576e-01,   1.46305016e+00,\n",
      "         -2.02856682e+00,   3.66253084e+00,   4.28947631e+00,\n",
      "          3.08376858e-01,   3.58948584e+00,   1.74097999e+00,\n",
      "          2.74840221e+00,   3.09660427e+00,   1.48799402e+00,\n",
      "          2.16621448e+00,   1.15822486e+00,   1.60224878e+00,\n",
      "          6.48312025e+00],\n",
      "       [ -1.68341536e+00,  -4.69577010e-01,   3.72736906e-01,\n",
      "          2.19602361e+00,   1.12896396e+00,   3.36431042e+00,\n",
      "         -1.48994338e+00,   1.71085542e+00,   1.54421535e+00,\n",
      "         -1.19113922e+00,   1.31590048e+00,   8.43584865e-02,\n",
      "          1.78114429e+00,   6.25971863e-01,   9.80495643e-01,\n",
      "         -9.37456669e-01,   8.21967977e-01,   3.08376858e-01,\n",
      "          1.68186006e+00,   1.14058426e+00,  -1.58074852e+00,\n",
      "          7.06280634e-01,  -2.80695070e-02,   7.76862590e-01,\n",
      "          5.89411598e-02,   8.05655225e-01,   5.30946762e-01,\n",
      "         -3.94946272e-01],\n",
      "       [ -5.50856476e-01,   1.16892770e+00,   1.54047791e-01,\n",
      "         -1.34696950e+00,  -3.10309574e-01,   6.05776644e-01,\n",
      "         -5.79943941e+00,   6.25594117e+00,   8.63227411e+00,\n",
      "         -6.06736312e+00,   1.62678089e+00,   4.16609208e+00,\n",
      "          4.36996273e+00,   2.35449414e+00,   2.66991287e+00,\n",
      "         -3.88726765e+00,   4.49220530e+00,   3.58948584e+00,\n",
      "          1.14058426e+00,   6.43480305e+00,  -8.53811697e-01,\n",
      "          2.34350926e+00,   3.10093747e+00,   2.23410407e+00,\n",
      "          2.32518462e+00,   2.01503533e+00,   2.70944376e+00,\n",
      "          5.20545632e+00],\n",
      "       [  2.14265744e+00,  -2.13286531e+00,  -6.07269327e+00,\n",
      "         -3.54344678e+00,  -2.91924120e-01,  -1.54393675e+01,\n",
      "          3.60921304e+00,  -2.59504663e+00,  -3.83725753e-01,\n",
      "          5.93328701e+00,   2.45151848e+00,   4.99372388e+00,\n",
      "         -4.57767551e+00,   4.76291339e-01,   3.82600507e+00,\n",
      "          4.58565790e+00,   5.10740304e-01,   1.74097999e+00,\n",
      "         -1.58074852e+00,  -8.53811697e-01,   1.64818538e+01,\n",
      "          4.88629830e+00,   3.73473387e+00,  -1.45154722e+00,\n",
      "          2.20413757e+00,  -1.66474717e+00,   2.35802657e-01,\n",
      "          1.53314133e+01],\n",
      "       [ -2.31021183e+00,  -2.19538460e+00,  -1.20593395e+00,\n",
      "          6.04967982e+00,  -3.83208179e+00,  -6.62696896e+00,\n",
      "         -1.10917360e+00,   4.27069760e+00,   3.81234105e+00,\n",
      "         -2.16272803e+00,   8.38158015e+00,   3.13606936e+00,\n",
      "          2.80128693e+00,   1.58897356e-01,   2.63561521e+00,\n",
      "          1.55582709e+00,   3.61232832e+00,   2.74840221e+00,\n",
      "          7.06280634e-01,   2.34350926e+00,   4.88629830e+00,\n",
      "          9.21873613e+00,   2.75731456e+00,   1.85645113e+00,\n",
      "          1.80049784e+00,   1.37321555e+00,   1.05519510e+00,\n",
      "          8.92912178e+00],\n",
      "       [  2.03047279e+00,   4.55052572e-01,   2.09337880e-01,\n",
      "         -3.52152696e+00,  -1.77058716e+00,  -7.97314791e+00,\n",
      "         -2.52349093e+00,   3.42834104e+00,   5.32356319e+00,\n",
      "         -2.80579027e+00,   1.10050948e+00,   4.60427137e+00,\n",
      "          8.40645007e-01,   1.43537184e+00,   8.16765989e-01,\n",
      "         -1.14243201e+00,   3.28870391e+00,   3.09660427e+00,\n",
      "         -2.80695070e-02,   3.10093747e+00,   3.73473387e+00,\n",
      "          2.75731456e+00,   4.55181236e+00,   8.11331938e-01,\n",
      "          2.44751000e+00,   4.34941616e-01,   1.83019017e+00,\n",
      "          7.19901669e+00],\n",
      "       [ -1.59242276e+00,   4.07717340e-01,   7.73311459e-01,\n",
      "          1.26813915e+00,  -2.71456726e+00,   2.13104189e+00,\n",
      "         -2.82199781e+00,   3.32761050e+00,   3.50438122e+00,\n",
      "         -3.41028812e+00,   1.99295022e+00,   7.27058928e-01,\n",
      "          3.10873865e+00,   3.85307742e-03,   1.56183224e+00,\n",
      "         -1.72352277e+00,   2.12614550e+00,   1.48799402e+00,\n",
      "          7.76862590e-01,   2.23410407e+00,  -1.45154722e+00,\n",
      "          1.85645113e+00,   8.11331938e-01,   2.50260609e+00,\n",
      "          6.28070704e-01,   1.40957041e+00,   7.10770059e-01,\n",
      "          1.83310028e+00],\n",
      "       [  1.32651853e+00,   3.65861707e-01,   2.22626841e-01,\n",
      "         -2.34174097e+00,  -8.38183392e-01,  -5.02702438e+00,\n",
      "         -1.96016152e+00,   2.56621551e+00,   3.92854677e+00,\n",
      "         -2.14302620e+00,   7.16348958e-01,   3.22290865e+00,\n",
      "          7.58432136e-01,   1.16548096e+00,   5.63846102e-01,\n",
      "         -9.94035673e-01,   2.35190188e+00,   2.16621448e+00,\n",
      "          5.89411598e-02,   2.32518462e+00,   2.20413757e+00,\n",
      "          1.80049784e+00,   2.44751000e+00,   6.28070704e-01,\n",
      "          2.70485334e+00,   3.74130443e-01,   1.37860652e+00,\n",
      "          4.69395424e+00],\n",
      "       [ -1.98877507e+00,   3.50581307e-01,   3.14449900e-01,\n",
      "          1.43642153e+00,  -2.06302638e+00,   3.68109544e+00,\n",
      "         -2.70891960e+00,   2.90470142e+00,   3.11144491e+00,\n",
      "         -2.96159117e+00,   1.66511271e+00,   2.99331499e-01,\n",
      "          3.04980232e+00,  -3.13466140e-03,   1.95094845e+00,\n",
      "         -1.75473636e+00,   1.74468033e+00,   1.15822486e+00,\n",
      "          8.05655225e-01,   2.01503533e+00,  -1.66474717e+00,\n",
      "          1.37321555e+00,   4.34941616e-01,   1.40957041e+00,\n",
      "          3.74130443e-01,   2.40214530e+00,   5.78048510e-01,\n",
      "          1.36715490e+00],\n",
      "       [  2.80730511e-01,  -2.11935360e-01,  -2.35552776e-01,\n",
      "         -3.42475106e-01,   3.47924973e+00,  -1.00599798e+00,\n",
      "         -2.39762128e+00,   2.77505660e+00,   4.15216404e+00,\n",
      "         -1.94643596e+00,   7.74887372e-01,   2.93329807e+00,\n",
      "          1.24808467e+00,   2.40598871e+00,   7.52003366e-01,\n",
      "         -1.51208637e+00,   2.06003172e+00,   1.60224878e+00,\n",
      "          5.30946762e-01,   2.70944376e+00,   2.35802657e-01,\n",
      "          1.05519510e+00,   1.83019017e+00,   7.10770059e-01,\n",
      "          1.37860652e+00,   5.78048510e-01,   2.85075573e+00,\n",
      "          2.25654816e+00],\n",
      "       [  5.99591174e-01,  -3.00465771e-01,  -6.68691610e+00,\n",
      "         -5.61563110e+00,  -8.72117040e+00,  -1.43876136e+01,\n",
      "         -3.81425115e+00,   4.99400261e+00,   9.63890497e+00,\n",
      "         -2.68741457e+00,   5.28089235e+00,   8.58685749e+00,\n",
      "          1.87460209e+00,   4.96693826e-01,   8.68146086e+00,\n",
      "         -1.06726423e-01,   6.17783267e+00,   6.48312025e+00,\n",
      "         -3.94946272e-01,   5.20545632e+00,   1.53314133e+01,\n",
      "          8.92912178e+00,   7.19901669e+00,   1.83310028e+00,\n",
      "          4.69395424e+00,   1.36715490e+00,   2.25654816e+00,\n",
      "          2.53697451e+01]])\n",
      "      jac: array([ -7.38704490e-07,   3.53597012e-06,  -3.77862464e-07,\n",
      "         8.23497165e-06,  -2.33984225e-06,  -3.43045984e-06,\n",
      "        -3.37083563e-06,   3.98439385e-06,   2.10857330e-06,\n",
      "         2.60564538e-06,  -2.07924081e-06,  -3.10659099e-06,\n",
      "        -3.78641922e-06,   6.37189493e-07,  -4.74057012e-07,\n",
      "        -5.79040623e-06,   2.86496574e-06,  -2.38506349e-06,\n",
      "        -1.59757750e-07,   1.20879797e-06,   2.21348393e-06,\n",
      "        -5.23853431e-06,  -1.51686959e-06,  -1.78843960e-06,\n",
      "        -1.19355742e-06,  -1.69618801e-06,   1.00676061e-07,\n",
      "         4.15879425e-07])\n",
      "  message: 'Optimization terminated successfully.'\n",
      "     nfev: 48\n",
      "      nit: 47\n",
      "     njev: 48\n",
      "   status: 0\n",
      "  success: True\n",
      "        x: array([ 1.27268739,  0.62557016,  1.1809665 , -2.01919822, -0.91761468,\n",
      "       -1.43194199,  0.12375921, -0.36513086, -0.35703388, -0.17485805,\n",
      "       -1.45843772, -0.05129676, -0.61603963, -0.2746414 , -1.19282569,\n",
      "       -0.24270336, -0.20570022, -0.04499768, -0.27782709, -0.29525851,\n",
      "       -0.45613294, -1.04377851,  0.02762813, -0.29265642,  0.01543393,\n",
      "       -0.32759318, -0.14389199, -0.92460119])\n"
     ]
    }
   ],
   "source": [
    "initial_theta2 = np.zeros(XX.shape[1])\n",
    "#print(costFunctionReg(initial_theta2, XX, y2))\n",
    "#print(gradientReg(initial_theta2, XX, y2))\n",
    "print(sc.optimize.minimize(regularizedCostFunction, initial_theta2, args = (XX, y2), method = None, jac = regularizedGradientDescent, options = {'maxiter':3000}))"
   ]
  }
 ],
 "metadata": {
  "kernelspec": {
   "display_name": "Python 3",
   "language": "python",
   "name": "python3"
  },
  "language_info": {
   "codemirror_mode": {
    "name": "ipython",
    "version": 3
   },
   "file_extension": ".py",
   "mimetype": "text/x-python",
   "name": "python",
   "nbconvert_exporter": "python",
   "pygments_lexer": "ipython3",
   "version": "3.6.3"
  }
 },
 "nbformat": 4,
 "nbformat_minor": 2
}
