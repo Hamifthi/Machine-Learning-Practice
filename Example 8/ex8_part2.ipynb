{
 "cells": [
  {
   "cell_type": "code",
   "execution_count": 433,
   "metadata": {},
   "outputs": [],
   "source": [
    "import os\n",
    "import numpy as np\n",
    "import scipy as sc\n",
    "import matplotlib.pyplot as plt\n",
    "import seaborn as sns\n",
    "import scipy\n",
    "from scipy.io import loadmat\n",
    "%matplotlib inline\n",
    "sns.set()\n",
    "sns.set_style('white')"
   ]
  },
  {
   "cell_type": "code",
   "execution_count": 434,
   "metadata": {},
   "outputs": [],
   "source": [
    "data = loadmat('E:/Hamed/Amozesh/AI/Coursera-ML/16. Recommender Systems (Week 9)/ex8/ex8_movies')\n",
    "r = data['R']\n",
    "y = data['Y']"
   ]
  },
  {
   "cell_type": "code",
   "execution_count": 435,
   "metadata": {},
   "outputs": [],
   "source": [
    "def average_rating(y, r, which_movie):\n",
    "    return np.dot(y[which_movie, :], r[which_movie, :].T)"
   ]
  },
  {
   "cell_type": "code",
   "execution_count": 436,
   "metadata": {},
   "outputs": [],
   "source": [
    "data = loadmat('E:/Hamed/Amozesh/AI/Coursera-ML/16. Recommender Systems (Week 9)/ex8/ex8_movieParams')\n",
    "x = data['X']\n",
    "theta = data['Theta']"
   ]
  },
  {
   "cell_type": "code",
   "execution_count": 437,
   "metadata": {},
   "outputs": [],
   "source": [
    "num_users = 4\n",
    "num_movies = 5\n",
    "num_features = 3\n",
    "\n",
    "x = x[:num_movies, :num_features]\n",
    "theta = theta[:num_users, :num_features]\n",
    "y = y[:num_movies, 0:num_users]\n",
    "r = r[:num_movies, 0:num_users]"
   ]
  },
  {
   "cell_type": "code",
   "execution_count": 438,
   "metadata": {},
   "outputs": [],
   "source": [
    "def flattenParams(myX, myTheta):\n",
    "    return np.concatenate((myX.flatten(),myTheta.flatten()))"
   ]
  },
  {
   "cell_type": "code",
   "execution_count": 439,
   "metadata": {},
   "outputs": [],
   "source": [
    "def reshapeParams(flattened_XandTheta, mynm, mynu, mynf):\n",
    "    assert flattened_XandTheta.shape[0] == int(nm*nf+nu*nf)\n",
    "    \n",
    "    reX = flattened_XandTheta[:int(mynm*mynf)].reshape((mynm,mynf))\n",
    "    reTheta = flattened_XandTheta[int(mynm*mynf):].reshape((mynu,mynf))\n",
    "    \n",
    "    return reX, reTheta"
   ]
  },
  {
   "cell_type": "code",
   "execution_count": 440,
   "metadata": {},
   "outputs": [],
   "source": [
    "def collaborative_filtering_cost_function(theta, x, y, r, l):\n",
    "    j = 1 / 2 * np.sum(np.square((np.dot(x, theta.T) - y) * r)) + l / 2 * (np.sum(np.square(theta)) + np.sum(np.square(x)))\n",
    "    return j"
   ]
  },
  {
   "cell_type": "code",
   "execution_count": 441,
   "metadata": {},
   "outputs": [
    {
     "data": {
      "text/plain": [
       "31.34405624427422"
      ]
     },
     "execution_count": 441,
     "metadata": {},
     "output_type": "execute_result"
    }
   ],
   "source": [
    "collaborative_filtering_cost_function(theta, x, y, r, 1.5)"
   ]
  },
  {
   "cell_type": "code",
   "execution_count": 442,
   "metadata": {},
   "outputs": [],
   "source": [
    "def collaborative_filtering_gradient(theta, x, y, r, l):\n",
    "    Xgrad = np.dot((np.dot(x, theta.T) - y) * r, theta) + l * x\n",
    "    Thetagrad = np.dot(((np.dot(x, theta.T) - y) * r).T, x) + l * theta\n",
    "        \n",
    "    return flattenParams(Xgrad, Thetagrad)"
   ]
  }
 ],
 "metadata": {
  "kernelspec": {
   "display_name": "Python 3",
   "language": "python",
   "name": "python3"
  },
  "language_info": {
   "codemirror_mode": {
    "name": "ipython",
    "version": 3
   },
   "file_extension": ".py",
   "mimetype": "text/x-python",
   "name": "python",
   "nbconvert_exporter": "python",
   "pygments_lexer": "ipython3",
   "version": "3.6.3"
  }
 },
 "nbformat": 4,
 "nbformat_minor": 2
}
