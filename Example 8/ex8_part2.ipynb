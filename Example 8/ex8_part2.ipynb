{
 "cells": [
  {
   "cell_type": "code",
   "execution_count": 433,
   "metadata": {},
   "outputs": [],
   "source": [
    "import os\n",
    "import numpy as np\n",
    "import scipy as sc\n",
    "import matplotlib.pyplot as plt\n",
    "import seaborn as sns\n",
    "import scipy\n",
    "from scipy.io import loadmat\n",
    "%matplotlib inline\n",
    "sns.set()\n",
    "sns.set_style('white')"
   ]
  },
  {
   "cell_type": "code",
   "execution_count": 434,
   "metadata": {},
   "outputs": [],
   "source": [
    "data = loadmat('E:/Hamed/Amozesh/AI/Coursera-ML/16. Recommender Systems (Week 9)/ex8/ex8_movies')\n",
    "r = data['R']\n",
    "y = data['Y']"
   ]
  },
  {
   "cell_type": "code",
   "execution_count": 435,
   "metadata": {},
   "outputs": [],
   "source": [
    "def average_rating(y, r, which_movie):\n",
    "    return np.dot(y[which_movie, :], r[which_movie, :].T)"
   ]
  },
  {
   "cell_type": "code",
   "execution_count": 436,
   "metadata": {},
   "outputs": [],
   "source": [
    "data = loadmat('E:/Hamed/Amozesh/AI/Coursera-ML/16. Recommender Systems (Week 9)/ex8/ex8_movieParams')\n",
    "x = data['X']\n",
    "theta = data['Theta']"
   ]
  },
  {
   "cell_type": "code",
   "execution_count": 437,
   "metadata": {},
   "outputs": [],
   "source": [
    "num_users = 4\n",
    "num_movies = 5\n",
    "num_features = 3\n",
    "\n",
    "x = x[:num_movies, :num_features]\n",
    "theta = theta[:num_users, :num_features]\n",
    "y = y[:num_movies, 0:num_users]\n",
    "r = r[:num_movies, 0:num_users]"
   ]
  },
  {
   "cell_type": "code",
   "execution_count": 438,
   "metadata": {},
   "outputs": [],
   "source": [
    "def flattenParams(myX, myTheta):\n",
    "    return np.concatenate((myX.flatten(),myTheta.flatten()))"
   ]
  },
  {
   "cell_type": "code",
   "execution_count": 439,
   "metadata": {},
   "outputs": [],
   "source": [
    "def reshapeParams(flattened_XandTheta, mynm, mynu, mynf):\n",
    "    assert flattened_XandTheta.shape[0] == int(nm*nf+nu*nf)\n",
    "    \n",
    "    reX = flattened_XandTheta[:int(mynm*mynf)].reshape((mynm,mynf))\n",
    "    reTheta = flattened_XandTheta[int(mynm*mynf):].reshape((mynu,mynf))\n",
    "    \n",
    "    return reX, reTheta"
   ]
  },
  {
   "cell_type": "code",
   "execution_count": 440,
   "metadata": {},
   "outputs": [],
   "source": [
    "def collaborative_filtering_cost_function(theta, x, y, r, l):\n",
    "    j = 1 / 2 * np.sum(np.square((np.dot(x, theta.T) - y) * r)) + l / 2 * (np.sum(np.square(theta)) + np.sum(np.square(x)))\n",
    "    return j"
   ]
  },
  {
   "cell_type": "code",
   "execution_count": 441,
   "metadata": {},
   "outputs": [
    {
     "data": {
      "text/plain": [
       "31.34405624427422"
      ]
     },
     "execution_count": 441,
     "metadata": {},
     "output_type": "execute_result"
    }
   ],
   "source": [
    "collaborative_filtering_cost_function(theta, x, y, r, 1.5)"
   ]
  },
  {
   "cell_type": "code",
   "execution_count": 442,
   "metadata": {},
   "outputs": [],
   "source": [
    "def collaborative_filtering_gradient(theta, x, y, r, l):\n",
    "    Xgrad = np.dot((np.dot(x, theta.T) - y) * r, theta) + l * x\n",
    "    Thetagrad = np.dot(((np.dot(x, theta.T) - y) * r).T, x) + l * theta\n",
    "        \n",
    "    return flattenParams(Xgrad, Thetagrad)"
   ]
  },
  {
   "cell_type": "code",
   "execution_count": 443,
   "metadata": {},
   "outputs": [],
   "source": [
    "movies = []\n",
    "with open('E:/Hamed/Amozesh/AI/Coursera-ML/16. Recommender Systems (Week 9)/ex8/movie_ids.txt') as f:\n",
    "    for line in f:\n",
    "        movies.append(' '.join(line.strip('\\n').split(' ')[1:]))\n",
    "my_ratings = np.zeros((1682,1))\n",
    "my_ratings[0]   = 4\n",
    "my_ratings[97]  = 2\n",
    "my_ratings[6]   = 3\n",
    "my_ratings[11]  = 5\n",
    "my_ratings[53]  = 4\n",
    "my_ratings[63]  = 5\n",
    "my_ratings[65]  = 3\n",
    "my_ratings[68]  = 5\n",
    "my_ratings[182] = 4\n",
    "my_ratings[225] = 5\n",
    "my_ratings[354] = 5"
   ]
  },
  {
   "cell_type": "code",
   "execution_count": 444,
   "metadata": {},
   "outputs": [],
   "source": [
    "mat = loadmat('E:/Hamed/Amozesh/AI/Coursera-ML/16. Recommender Systems (Week 9)/ex8/ex8_movies')\n",
    "Y = mat['Y']\n",
    "R = mat['R']\n",
    "nf = 10"
   ]
  },
  {
   "cell_type": "code",
   "execution_count": 445,
   "metadata": {},
   "outputs": [],
   "source": [
    "myR_row = my_ratings > 0\n",
    "Y = np.hstack((Y,my_ratings))\n",
    "R = np.hstack((R,myR_row))\n",
    "nm, nu = Y.shape"
   ]
  },
  {
   "cell_type": "code",
   "execution_count": 446,
   "metadata": {},
   "outputs": [],
   "source": [
    "def normalizeRatings(myY, myR):\n",
    "    Ymean = np.sum(myY,axis=1)/np.sum(myR,axis=1)\n",
    "    Ymean = Ymean.reshape((Ymean.shape[0],1))\n",
    "    \n",
    "    return myY-Ymean, Ymean"
   ]
  },
  {
   "cell_type": "code",
   "execution_count": 447,
   "metadata": {},
   "outputs": [],
   "source": [
    "Ynorm, Ymean = normalizeRatings(Y,R)"
   ]
  },
  {
   "cell_type": "code",
   "execution_count": 448,
   "metadata": {},
   "outputs": [
    {
     "ename": "TypeError",
     "evalue": "collaborative_filtering_gradient() takes 5 positional arguments but 7 were given",
     "output_type": "error",
     "traceback": [
      "\u001b[1;31m---------------------------------------------------------------------------\u001b[0m",
      "\u001b[1;31mTypeError\u001b[0m                                 Traceback (most recent call last)",
      "\u001b[1;32m<ipython-input-448-4f19f65ae6ae>\u001b[0m in \u001b[0;36m<module>\u001b[1;34m()\u001b[0m\n\u001b[0;32m      5\u001b[0m result = scipy.optimize.fmin_cg(collaborative_filtering_cost_function, x0 = myflat, fprime = collaborative_filtering_gradient, \n\u001b[0;32m      6\u001b[0m                                 \u001b[0margs\u001b[0m \u001b[1;33m=\u001b[0m \u001b[1;33m(\u001b[0m\u001b[0mY\u001b[0m\u001b[1;33m,\u001b[0m \u001b[0mR\u001b[0m\u001b[1;33m,\u001b[0m \u001b[0mnu\u001b[0m\u001b[1;33m,\u001b[0m \u001b[0mnm\u001b[0m\u001b[1;33m,\u001b[0m \u001b[0mnf\u001b[0m\u001b[1;33m,\u001b[0m \u001b[0mmylambda\u001b[0m\u001b[1;33m)\u001b[0m\u001b[1;33m,\u001b[0m\u001b[1;33m\u001b[0m\u001b[0m\n\u001b[1;32m----> 7\u001b[1;33m                                 maxiter=50, disp=True, full_output=True)\n\u001b[0m",
      "\u001b[1;32mc:\\users\\hamed\\appdata\\local\\programs\\python\\python36\\lib\\site-packages\\scipy\\optimize\\optimize.py\u001b[0m in \u001b[0;36mfmin_cg\u001b[1;34m(f, x0, fprime, args, gtol, norm, epsilon, maxiter, full_output, disp, retall, callback)\u001b[0m\n\u001b[0;32m   1205\u001b[0m             'return_all': retall}\n\u001b[0;32m   1206\u001b[0m \u001b[1;33m\u001b[0m\u001b[0m\n\u001b[1;32m-> 1207\u001b[1;33m     \u001b[0mres\u001b[0m \u001b[1;33m=\u001b[0m \u001b[0m_minimize_cg\u001b[0m\u001b[1;33m(\u001b[0m\u001b[0mf\u001b[0m\u001b[1;33m,\u001b[0m \u001b[0mx0\u001b[0m\u001b[1;33m,\u001b[0m \u001b[0margs\u001b[0m\u001b[1;33m,\u001b[0m \u001b[0mfprime\u001b[0m\u001b[1;33m,\u001b[0m \u001b[0mcallback\u001b[0m\u001b[1;33m=\u001b[0m\u001b[0mcallback\u001b[0m\u001b[1;33m,\u001b[0m \u001b[1;33m**\u001b[0m\u001b[0mopts\u001b[0m\u001b[1;33m)\u001b[0m\u001b[1;33m\u001b[0m\u001b[0m\n\u001b[0m\u001b[0;32m   1208\u001b[0m \u001b[1;33m\u001b[0m\u001b[0m\n\u001b[0;32m   1209\u001b[0m     \u001b[1;32mif\u001b[0m \u001b[0mfull_output\u001b[0m\u001b[1;33m:\u001b[0m\u001b[1;33m\u001b[0m\u001b[0m\n",
      "\u001b[1;32mc:\\users\\hamed\\appdata\\local\\programs\\python\\python36\\lib\\site-packages\\scipy\\optimize\\optimize.py\u001b[0m in \u001b[0;36m_minimize_cg\u001b[1;34m(fun, x0, args, jac, callback, gtol, norm, eps, maxiter, disp, return_all, **unknown_options)\u001b[0m\n\u001b[0;32m   1256\u001b[0m     \u001b[1;32melse\u001b[0m\u001b[1;33m:\u001b[0m\u001b[1;33m\u001b[0m\u001b[0m\n\u001b[0;32m   1257\u001b[0m         \u001b[0mgrad_calls\u001b[0m\u001b[1;33m,\u001b[0m \u001b[0mmyfprime\u001b[0m \u001b[1;33m=\u001b[0m \u001b[0mwrap_function\u001b[0m\u001b[1;33m(\u001b[0m\u001b[0mfprime\u001b[0m\u001b[1;33m,\u001b[0m \u001b[0margs\u001b[0m\u001b[1;33m)\u001b[0m\u001b[1;33m\u001b[0m\u001b[0m\n\u001b[1;32m-> 1258\u001b[1;33m     \u001b[0mgfk\u001b[0m \u001b[1;33m=\u001b[0m \u001b[0mmyfprime\u001b[0m\u001b[1;33m(\u001b[0m\u001b[0mx0\u001b[0m\u001b[1;33m)\u001b[0m\u001b[1;33m\u001b[0m\u001b[0m\n\u001b[0m\u001b[0;32m   1259\u001b[0m     \u001b[0mk\u001b[0m \u001b[1;33m=\u001b[0m \u001b[1;36m0\u001b[0m\u001b[1;33m\u001b[0m\u001b[0m\n\u001b[0;32m   1260\u001b[0m     \u001b[0mxk\u001b[0m \u001b[1;33m=\u001b[0m \u001b[0mx0\u001b[0m\u001b[1;33m\u001b[0m\u001b[0m\n",
      "\u001b[1;32mc:\\users\\hamed\\appdata\\local\\programs\\python\\python36\\lib\\site-packages\\scipy\\optimize\\optimize.py\u001b[0m in \u001b[0;36mfunction_wrapper\u001b[1;34m(*wrapper_args)\u001b[0m\n\u001b[0;32m    290\u001b[0m     \u001b[1;32mdef\u001b[0m \u001b[0mfunction_wrapper\u001b[0m\u001b[1;33m(\u001b[0m\u001b[1;33m*\u001b[0m\u001b[0mwrapper_args\u001b[0m\u001b[1;33m)\u001b[0m\u001b[1;33m:\u001b[0m\u001b[1;33m\u001b[0m\u001b[0m\n\u001b[0;32m    291\u001b[0m         \u001b[0mncalls\u001b[0m\u001b[1;33m[\u001b[0m\u001b[1;36m0\u001b[0m\u001b[1;33m]\u001b[0m \u001b[1;33m+=\u001b[0m \u001b[1;36m1\u001b[0m\u001b[1;33m\u001b[0m\u001b[0m\n\u001b[1;32m--> 292\u001b[1;33m         \u001b[1;32mreturn\u001b[0m \u001b[0mfunction\u001b[0m\u001b[1;33m(\u001b[0m\u001b[1;33m*\u001b[0m\u001b[1;33m(\u001b[0m\u001b[0mwrapper_args\u001b[0m \u001b[1;33m+\u001b[0m \u001b[0margs\u001b[0m\u001b[1;33m)\u001b[0m\u001b[1;33m)\u001b[0m\u001b[1;33m\u001b[0m\u001b[0m\n\u001b[0m\u001b[0;32m    293\u001b[0m \u001b[1;33m\u001b[0m\u001b[0m\n\u001b[0;32m    294\u001b[0m     \u001b[1;32mreturn\u001b[0m \u001b[0mncalls\u001b[0m\u001b[1;33m,\u001b[0m \u001b[0mfunction_wrapper\u001b[0m\u001b[1;33m\u001b[0m\u001b[0m\n",
      "\u001b[1;31mTypeError\u001b[0m: collaborative_filtering_gradient() takes 5 positional arguments but 7 were given"
     ]
    }
   ],
   "source": [
    "X = np.random.rand(nm, nf)\n",
    "Theta = np.random.rand(nu, nf)\n",
    "myflat = flattenParams(X, Theta)\n",
    "mylambda = 10.\n",
    "result = scipy.optimize.fmin_cg(collaborative_filtering_cost_function, x0 = myflat, fprime = collaborative_filtering_gradient, \n",
    "                                args = (Y, R, nu, nm, nf, mylambda),\n",
    "                                maxiter=50, disp=True, full_output=True)"
   ]
  },
  {
   "cell_type": "code",
   "execution_count": null,
   "metadata": {},
   "outputs": [],
   "source": [
    "resX, resTheta = reshapeParams(result[0], nm, nu, nf)\n",
    "prediction_matrix = resX.dot(resTheta.T)\n",
    "my_predictions = prediction_matrix[:,-1] + Ymean.flatten()"
   ]
  },
  {
   "cell_type": "code",
   "execution_count": null,
   "metadata": {},
   "outputs": [],
   "source": [
    "pred_idxs_sorted = np.argsort(my_predictions)\n",
    "pred_idxs_sorted[:] = pred_idxs_sorted[::-1]\n",
    "\n",
    "print \"Top recommendations for you:\"\n",
    "for i in xrange(10):\n",
    "    print 'Predicting rating %0.1f for movie %s.' % \\\n",
    "    (my_predictions[pred_idxs_sorted[i]],movies[pred_idxs_sorted[i]])\n",
    "    \n",
    "print \"\\nOriginal ratings provided:\"\n",
    "for i in xrange(len(my_ratings)):\n",
    "    if my_ratings[i] > 0:\n",
    "        print 'Rated %d for movie %s.' % (my_ratings[i],movies[i])"
   ]
  }
 ],
 "metadata": {
  "kernelspec": {
   "display_name": "Python 3",
   "language": "python",
   "name": "python3"
  },
  "language_info": {
   "codemirror_mode": {
    "name": "ipython",
    "version": 3
   },
   "file_extension": ".py",
   "mimetype": "text/x-python",
   "name": "python",
   "nbconvert_exporter": "python",
   "pygments_lexer": "ipython3",
   "version": "3.6.3"
  }
 },
 "nbformat": 4,
 "nbformat_minor": 2
}
