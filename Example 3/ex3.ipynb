{
 "cells": [
  {
   "cell_type": "code",
   "execution_count": 1,
   "metadata": {},
   "outputs": [],
   "source": [
    "import pandas as pd\n",
    "import scipy as sc\n",
    "import numpy as np\n",
    "import matplotlib.pyplot as plt\n",
    "import seaborn as sns\n",
    "from scipy.io import loadmat\n",
    "import sys\n",
    "%matplotlib inline\n",
    "sns.set()"
   ]
  },
  {
   "cell_type": "code",
   "execution_count": 244,
   "metadata": {},
   "outputs": [],
   "source": [
    "data = loadmat('ex3data1.mat')\n",
    "weights = loadmat('ex3weights.mat')\n",
    "x = np.c_[np.ones((data['X'].shape[0],1)), data['X']]\n",
    "y = data['y']\n",
    "initialTheta = np.zeros(x.shape[1])\n",
    "theta1 = np.array(weights['Theta1'])\n",
    "theta2 = np.array(weights['Theta2'])"
   ]
  },
  {
   "cell_type": "code",
   "execution_count": 197,
   "metadata": {},
   "outputs": [
    {
     "data": {
      "image/png": "[encoded data removed]",
      "text/plain": [
       "<matplotlib.figure.Figure at 0x1cf9f451748>"
      ]
     },
     "metadata": {},
     "output_type": "display_data"
    }
   ],
   "source": [
    "sample = np.random.choice(x.shape[0], 20)\n",
    "plt.imshow(x[sample,1:].reshape(-1,20).T)\n",
    "plt.axis('off');"
   ]
  },
  {
   "cell_type": "code",
   "execution_count": 198,
   "metadata": {},
   "outputs": [],
   "source": [
    "def gFunction(z):\n",
    "    return 1 / (1 + np.exp(-z))"
   ]
  },
  {
   "cell_type": "code",
   "execution_count": 210,
   "metadata": {},
   "outputs": [],
   "source": [
    "def regularizedCostFunction(theta, x, y, λ = 0.1):\n",
    "    m = y.size\n",
    "    h = gFunction(x.dot(theta))\n",
    "    \n",
    "    j = -1 * (1 / m) * (np.log(h).T.dot(y) + np.log(1-h).T.dot(1-y)) + (λ / (2 * m)) * np.sum(np.square(theta[1:]))\n",
    "    if np.isnan(j):\n",
    "        return(np.inf)\n",
    "    return(j)"
   ]
  },
  {
   "cell_type": "code",
   "execution_count": 256,
   "metadata": {},
   "outputs": [],
   "source": [
    "def regularizedGradientDescent(theta, x, y, λ = 0.1):\n",
    "    m = y.size\n",
    "    h = gFunction(x.dot(theta.reshape(-1,1)))\n",
    "    gradient = (1/m) * x.T.dot(h - y) + (λ / m) * np.r_[[[0]], theta[1:].reshape(-1, 1)]\n",
    "    return gradient.flatten()"
   ]
  },
  {
   "cell_type": "code",
   "execution_count": 257,
   "metadata": {},
   "outputs": [
    {
     "name": "stdout",
     "output_type": "stream",
     "text": [
      "(1,)\n",
      "(401,)\n"
     ]
    }
   ],
   "source": [
    "print(regularizedCostFunction(initialTheta, x, y, 0.1).shape)\n",
    "print(regularizedGradientDescent(initialTheta, x, y, 0.1).shape)"
   ]
  },
  {
   "cell_type": "code",
   "execution_count": 258,
   "metadata": {},
   "outputs": [],
   "source": [
    "def oneVsAll(features, classes, numberOfClassifier, λ):\n",
    "    train_theta = np.zeros((numberOfClassifier, x.shape[1]))\n",
    "    for cls in range(1, numberOfClassifier + 1):\n",
    "        optimum = sc.optimize.minimize(regularizedCostFunction, initialTheta, args = (x, (cls == y) * 1, 0.1), method = None,\n",
    "        jac = regularizedGradientDescent, options = {'maxiter':50})\n",
    "        train_theta[cls - 1] = optimum.x\n",
    "    return train_theta"
   ]
  },
  {
   "cell_type": "code",
   "execution_count": 259,
   "metadata": {},
   "outputs": [
    {
     "data": {
      "text/plain": [
       "(10, 401)"
      ]
     },
     "execution_count": 259,
     "metadata": {},
     "output_type": "execute_result"
    }
   ],
   "source": [
    "train_theta = oneVsAll(x, y, 10, 0.1)\n",
    "train_theta.shape"
   ]
  },
  {
   "cell_type": "code",
   "execution_count": 260,
   "metadata": {},
   "outputs": [],
   "source": [
    "def prediction(theta, x):\n",
    "    predict = gFunction(np.dot(x, theta.T))\n",
    "    return np.argmax(predict, axis = 1) + 1"
   ]
  },
  {
   "cell_type": "code",
   "execution_count": 273,
   "metadata": {},
   "outputs": [
    {
     "name": "stdout",
     "output_type": "stream",
     "text": [
      "The accuracy is 93.24 %\n"
     ]
    }
   ],
   "source": [
    "predict1 = prediction(train_theta, x)\n",
    "print('The accuracy is {} %'.format(np.mean(predict1 == y.ravel()) * 100))"
   ]
  },
  {
   "cell_type": "code",
   "execution_count": 274,
   "metadata": {},
   "outputs": [],
   "source": [
    "def neuralNetworkPredict(theta1, theta2, x):\n",
    "    z2 = np.dot(x, theta1.T)\n",
    "    a2 = np.c_[np.ones(5000), gFunction(z2)]\n",
    "    \n",
    "    z3 = np.dot(a2, theta2.T)\n",
    "    a3 = gFunction(z3)\n",
    "    return a3"
   ]
  },
  {
   "cell_type": "code",
   "execution_count": 275,
   "metadata": {},
   "outputs": [
    {
     "name": "stdout",
     "output_type": "stream",
     "text": [
      "The accuracy is 97.52 %\n"
     ]
    }
   ],
   "source": [
    "predict2 = np.argmax(neuralNetworkPredict(theta1, theta2, x), axis = 1) + 1\n",
    "print('The accuracy is {} %'.format(np.mean(predict2 == y.ravel()) * 100))"
   ]
  },
  {
   "cell_type": "code",
   "execution_count": null,
   "metadata": {},
   "outputs": [],
   "source": []
  }
 ],
 "metadata": {
  "kernelspec": {
   "display_name": "Python 3",
   "language": "python",
   "name": "python3"
  },
  "language_info": {
   "codemirror_mode": {
    "name": "ipython",
    "version": 3
   },
   "file_extension": ".py",
   "mimetype": "text/x-python",
   "name": "python",
   "nbconvert_exporter": "python",
   "pygments_lexer": "ipython3",
   "version": "3.6.3"
  }
 },
 "nbformat": 4,
 "nbformat_minor": 2
}
